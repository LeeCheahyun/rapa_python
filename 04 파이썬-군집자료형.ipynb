{
 "cells": [
  {
   "cell_type": "code",
   "execution_count": 28,
   "id": "bfb7b0c8",
   "metadata": {},
   "outputs": [
    {
     "name": "stdout",
     "output_type": "stream",
     "text": [
      "2021-08-25 17:22:55.181268\n",
      "집에 갈 때까지 0:38:5 남았다!\n"
     ]
    }
   ],
   "source": [
    "import datetime\n",
    "now = str(datetime.datetime.now())\n",
    "print(now)\n",
    "\n",
    "t = int(now[11:13])\n",
    "m = int(now[14:16])\n",
    "s = int(now[17:19])\n",
    "\n",
    "if '60-m' == '00':\n",
    "    x = 18-t\n",
    "else :\n",
    "    x = 17-t\n",
    "\n",
    "print(f'집에 갈 때까지 {x}:{60-m}:{60-s} 남았다!')"
   ]
  },
  {
   "cell_type": "code",
   "execution_count": 1,
   "id": "72f93795",
   "metadata": {},
   "outputs": [
    {
     "name": "stdout",
     "output_type": "stream",
     "text": [
      "<class 'list'>\n",
      "<class 'tuple'>\n",
      "<class 'dict'>\n",
      "<class 'set'>\n"
     ]
    }
   ],
   "source": [
    "#자료형 확인\n",
    "a = [1,2,3,4,5]\n",
    "b = (1,2,3,4,5)\n",
    "c = {1:'a',2:'b',3:'c',4:'d',5:'e'}\n",
    "d = {1,2,3,4,5}\n",
    "\n",
    "print(type(a))\n",
    "print(type(b))\n",
    "print(type(c))\n",
    "print(type(d))"
   ]
  },
  {
   "cell_type": "markdown",
   "id": "985fcac1",
   "metadata": {},
   "source": [
    "# 1. 리스트: List"
   ]
  },
  {
   "cell_type": "code",
   "execution_count": 3,
   "id": "97b625d8",
   "metadata": {},
   "outputs": [
    {
     "name": "stdout",
     "output_type": "stream",
     "text": [
      "[1, 2, 3, 4, 5, 6, 7, 8, 9, 10]\n"
     ]
    }
   ],
   "source": [
    "#리스트 생성\n",
    "mylist = list() #[]\n",
    "\n",
    "for i in range(1,11):\n",
    "    mylist.append(i) #리스트에 데이터 넣기\n",
    "\n",
    "print(mylist)"
   ]
  },
  {
   "cell_type": "code",
   "execution_count": 5,
   "id": "556fcc17",
   "metadata": {},
   "outputs": [
    {
     "name": "stdout",
     "output_type": "stream",
     "text": [
      "[1, 2, 3, 4, 5, 6, 7, 8, 9, 10]\n"
     ]
    }
   ],
   "source": [
    "mylist = list(range(1,11))\n",
    "print(mylist)"
   ]
  },
  {
   "cell_type": "code",
   "execution_count": 10,
   "id": "01ce064b",
   "metadata": {},
   "outputs": [
    {
     "name": "stdout",
     "output_type": "stream",
     "text": [
      "[range(1, 11)]\n"
     ]
    }
   ],
   "source": [
    "mylist = [range(1,11)]\n",
    "print(mylist)"
   ]
  },
  {
   "cell_type": "markdown",
   "id": "093e4930",
   "metadata": {},
   "source": [
    "## 리스트 요소에 접근"
   ]
  },
  {
   "cell_type": "code",
   "execution_count": 12,
   "id": "c8a3a496",
   "metadata": {},
   "outputs": [
    {
     "name": "stdout",
     "output_type": "stream",
     "text": [
      "red\n",
      "white\n",
      "['green', 'blue', 'black']\n"
     ]
    }
   ],
   "source": [
    "# 인덱싱 & 슬라이싱\n",
    "color = ['red', 'green', 'blue', 'black', 'white']\n",
    "\n",
    "print(color[0])\n",
    "print(color[4])\n",
    "print(color[1:4])"
   ]
  },
  {
   "cell_type": "code",
   "execution_count": 13,
   "id": "bbf96905",
   "metadata": {},
   "outputs": [
    {
     "name": "stdout",
     "output_type": "stream",
     "text": [
      "나는 red을 가장 좋아합니다.\n",
      "나는 green을 가장 좋아합니다.\n",
      "나는 blue을 가장 좋아합니다.\n",
      "나는 black을 가장 좋아합니다.\n",
      "나는 white을 가장 좋아합니다.\n"
     ]
    }
   ],
   "source": [
    "#연속된 자료형은 for문으로\n",
    "colors = ['red', 'green', 'blue', 'black', 'white']\n",
    "\n",
    "for color in colors:\n",
    "    print('나는 %s을 가장 좋아합니다.'% color)"
   ]
  },
  {
   "cell_type": "code",
   "execution_count": 14,
   "id": "bbd894ba",
   "metadata": {},
   "outputs": [
    {
     "name": "stdout",
     "output_type": "stream",
     "text": [
      "7\n"
     ]
    }
   ],
   "source": [
    "a = [1,2,3]\n",
    "b = [4,5,6,7]\n",
    "c = a+b\n",
    "print(len(c))"
   ]
  },
  {
   "cell_type": "code",
   "execution_count": 15,
   "id": "8d2b0115",
   "metadata": {},
   "outputs": [
    {
     "name": "stdout",
     "output_type": "stream",
     "text": [
      "['무궁화', '장미', '개나리']\n",
      "['무궁화', '장미', '개나리', '진달래']\n"
     ]
    }
   ],
   "source": [
    "# 리스트 요소 추가하기 append() 함수\n",
    "flowers = ['무궁화','장미','개나리']\n",
    "print(flowers)\n",
    "\n",
    "flowers.append('진달래')\n",
    "print(flowers)"
   ]
  },
  {
   "cell_type": "code",
   "execution_count": 16,
   "id": "26d19319",
   "metadata": {},
   "outputs": [
    {
     "name": "stdout",
     "output_type": "stream",
     "text": [
      "['무궁화', '장미', 30, '개나리']\n",
      "['무궁화', '장미', '개나리']\n"
     ]
    }
   ],
   "source": [
    "# 리스트에서 요소 삭제하기 remove()함수\n",
    "flowers = ['무궁화','장미',30,'개나리']\n",
    "print(flowers)\n",
    "\n",
    "flowers.remove(30)\n",
    "print(flowers)"
   ]
  },
  {
   "cell_type": "code",
   "execution_count": 17,
   "id": "f7020c5a",
   "metadata": {},
   "outputs": [
    {
     "name": "stdout",
     "output_type": "stream",
     "text": [
      "['무궁화', '진달래', '개나리']\n"
     ]
    }
   ],
   "source": [
    "# 리스트 요소 변경하기\n",
    "flowers[1] = '진달래'\n",
    "print(flowers)"
   ]
  },
  {
   "cell_type": "code",
   "execution_count": 18,
   "id": "a4e3f156",
   "metadata": {},
   "outputs": [
    {
     "name": "stdout",
     "output_type": "stream",
     "text": [
      "['무궁화', '진달래', '개나리', 'red', 'green', 'blue', 'black', 'white']\n"
     ]
    }
   ],
   "source": [
    "#두 리스트 합치기\n",
    "store = flowers + colors\n",
    "print(store)"
   ]
  },
  {
   "cell_type": "code",
   "execution_count": 19,
   "id": "ad74023b",
   "metadata": {},
   "outputs": [
    {
     "data": {
      "text/plain": [
       "['red', 'green', 'blue', 'black']"
      ]
     },
     "execution_count": 19,
     "metadata": {},
     "output_type": "execute_result"
    }
   ],
   "source": [
    "# 리스트 맨 뒤 항목 빼기\n",
    "colors.pop()\n",
    "colors"
   ]
  },
  {
   "cell_type": "code",
   "execution_count": 20,
   "id": "ac440d75",
   "metadata": {},
   "outputs": [
    {
     "data": {
      "text/plain": [
       "['black', 'blue', 'green', 'red']"
      ]
     },
     "execution_count": 20,
     "metadata": {},
     "output_type": "execute_result"
    }
   ],
   "source": [
    "# 순서대로 정렬\n",
    "colors.sort()\n",
    "colors"
   ]
  },
  {
   "cell_type": "markdown",
   "id": "313e4b19",
   "metadata": {},
   "source": [
    "## 2차원 리스트"
   ]
  },
  {
   "cell_type": "code",
   "execution_count": 23,
   "id": "22f1bd9e",
   "metadata": {},
   "outputs": [
    {
     "name": "stdout",
     "output_type": "stream",
     "text": [
      "[10, 20, 30]\n",
      "[40, 50, 60, 70]\n",
      "30\n",
      "60\n",
      "[40, 50, 60]\n"
     ]
    }
   ],
   "source": [
    "numbers = [[10,20,30],[40,50,60,70]]\n",
    "\n",
    "print(numbers[0])\n",
    "print(numbers[1])\n",
    "\n",
    "print(numbers[0][2])\n",
    "print(numbers[1][2])\n",
    "print(numbers[1][0:3])"
   ]
  },
  {
   "cell_type": "code",
   "execution_count": 24,
   "id": "2265d2f6",
   "metadata": {},
   "outputs": [
    {
     "name": "stdout",
     "output_type": "stream",
     "text": [
      "40\n"
     ]
    }
   ],
   "source": [
    "# 3차원 리스트\n",
    "numbers = [[10,20,30],[[40,50],60,70]]\n",
    "\n",
    "print(numbers[1][0][0])"
   ]
  },
  {
   "cell_type": "code",
   "execution_count": 36,
   "id": "3c9f5fd8",
   "metadata": {},
   "outputs": [
    {
     "name": "stdout",
     "output_type": "stream",
     "text": [
      "[1, 2, 3, 4, 5, 6, 7, 8, 9, 10, 11, 12]\n",
      "[1, 2, 3, 4, 5, 6, 7, 8, 9, 10, 11, 12] [1, 2, 3, 4, 5, 6, 7, 8, 9, 10, 11, 12] [1, 2, 3, 4, 5, 6, 7, 8, 9, 10, 11, 12] [1, 2, 3, 4, 5, 6, 7, 8, 9, 10, 11, 12] \n",
      "[1, 2, 3, 4, 5, 6, 7, 8, 9, 10, 11, 12] [1, 2, 3, 4, 5, 6, 7, 8, 9, 10, 11, 12] [1, 2, 3, 4, 5, 6, 7, 8, 9, 10, 11, 12] [1, 2, 3, 4, 5, 6, 7, 8, 9, 10, 11, 12] \n",
      "[1, 2, 3, 4, 5, 6, 7, 8, 9, 10, 11, 12] [1, 2, 3, 4, 5, 6, 7, 8, 9, 10, 11, 12] [1, 2, 3, 4, 5, 6, 7, 8, 9, 10, 11, 12] [1, 2, 3, 4, 5, 6, 7, 8, 9, 10, 11, 12] \n"
     ]
    }
   ],
   "source": [
    "nums = list()\n",
    "\n",
    "for i in range(1,13):\n",
    "    nums.append(i)\n",
    "\n",
    "print(nums)\n",
    "\n",
    "for j in range(3):\n",
    "    for k in range(4):\n",
    "        print(f'{nums}', end = \" \")\n",
    "    print()"
   ]
  },
  {
   "cell_type": "code",
   "execution_count": 42,
   "id": "78f577cc",
   "metadata": {},
   "outputs": [
    {
     "name": "stdout",
     "output_type": "stream",
     "text": [
      " 1  2  3  4 \n",
      " 5  6  7  8 \n",
      " 9 10 11 12 \n"
     ]
    }
   ],
   "source": [
    "TF = [[0]*4 for _ in range(3)]\n",
    "\n",
    "num = 1\n",
    "for i in range(3):\n",
    "    for j in range(4):\n",
    "        TF[i][j] = num\n",
    "        num +=1\n",
    "        \n",
    "for i in TF:\n",
    "    for j in i:\n",
    "        print(f'{j:>2d}', end = \" \")\n",
    "    print()"
   ]
  },
  {
   "cell_type": "code",
   "execution_count": 46,
   "id": "52ef6eb8",
   "metadata": {},
   "outputs": [
    {
     "name": "stdout",
     "output_type": "stream",
     "text": [
      " 1  2  3  4\n",
      " 5  6  7  8\n",
      " 9 10 11 12\n"
     ]
    }
   ],
   "source": [
    "lst = [[] for i in range(3)]\n",
    "value = 1\n",
    "for i in range(3):\n",
    "    for k in range(4):\n",
    "        lst[i].append(\"%2d\"%value)\n",
    "        value += 1\n",
    "        \n",
    "for i in range(3):\n",
    "    print(\" \".join(lst[i]))"
   ]
  },
  {
   "cell_type": "code",
   "execution_count": 48,
   "id": "dba1118a",
   "metadata": {},
   "outputs": [
    {
     "name": "stdout",
     "output_type": "stream",
     "text": [
      "1~200중 3의 배수는:  [3, 6, 9, 12, 15, 18, 21, 24, 27, 30, 33, 36, 39, 42, 45, 48, 51, 54, 57, 60, 63, 66, 69, 72, 75, 78, 81, 84, 87, 90, 93, 96, 99, 102, 105, 108, 111, 114, 117, 120, 123, 126, 129, 132, 135, 138, 141, 144, 147, 150, 153, 156, 159, 162, 165, 168, 171, 174, 177, 180, 183, 186, 189, 192, 195, 198]\n"
     ]
    }
   ],
   "source": [
    "a = list()\n",
    "\n",
    "for i in range(1,201):\n",
    "    if i % 3 ==0:\n",
    "        a.append(i)\n",
    "\n",
    "print(\"1~200중 3의 배수는: \",a)"
   ]
  },
  {
   "cell_type": "code",
   "execution_count": 49,
   "id": "35dd6eec",
   "metadata": {},
   "outputs": [
    {
     "name": "stdout",
     "output_type": "stream",
     "text": [
      "1~200중 3의 배수는:  [3, 6, 9, 12, 15, 18, 21, 24, 27, 30, 33, 36, 39, 42, 45, 48, 51, 54, 57, 60, 63, 66, 69, 72, 75, 78, 81, 84, 87, 90, 93, 96, 99, 102, 105, 108, 111, 114, 117, 120, 123, 126, 129, 132, 135, 138, 141, 144, 147, 150, 153, 156, 159, 162, 165, 168, 171, 174, 177, 180, 183, 186, 189, 192, 195, 198]\n"
     ]
    }
   ],
   "source": [
    "a = [i for i in range(1,200) if i % 3 == 0]\n",
    "print(\"1~200중 3의 배수는: \",a)"
   ]
  },
  {
   "cell_type": "code",
   "execution_count": 64,
   "id": "bcea9d5a",
   "metadata": {},
   "outputs": [
    {
     "name": "stdout",
     "output_type": "stream",
     "text": [
      "TXT의 성적 입력100\n",
      "트와이스의 성적 입력70\n",
      "블랙핑크의 성적 입력95\n",
      "뉴이스트의 성적 입력85\n",
      "------------------------------\n",
      "아이돌 성적 결과\n",
      "------------------------------\n",
      "TXT의 성적은 100점: 수료\n",
      "트와이스의 성적은 70점: 미수료\n",
      "블랙핑크의 성적은 95점: 수료\n",
      "뉴이스트의 성적은 85점: 수료\n"
     ]
    }
   ],
   "source": [
    "ilist = ['TXT', '트와이스', '블랙핑크', '뉴이스트']\n",
    "g = []\n",
    "\n",
    "for idx, val in enumerate(ilist):\n",
    "    temp = int(input(f'{val}의 성적 입력'))\n",
    "    g.append(temp)\n",
    "    \n",
    "print('-'*30)\n",
    "print('아이돌 성적 결과')\n",
    "print('-'*30)\n",
    "\n",
    "result = ''\n",
    "for i in range(len(ilist)):\n",
    "    if g[i] > 80 : result = \"수료\"\n",
    "    else : result = \"미수료\"\n",
    "   \n",
    "    print(f'{ilist[i]}의 성적은 {g[i]}점: {result}')"
   ]
  },
  {
   "cell_type": "code",
   "execution_count": 6,
   "id": "165f883d",
   "metadata": {},
   "outputs": [
    {
     "name": "stdout",
     "output_type": "stream",
     "text": [
      "'BTS'의 성적 입력:10\n",
      "'트와이스'의 성적 입력:100\n",
      "'블랙핑크'의 성적 입력:50\n",
      "'뉴이스트'의 성적 입력:90\n",
      "-----------------------------------------\n",
      "아이돌 성적 결과\n",
      "-----------------------------------------\n",
      "'BTS'의 성적은 10점: FAIL\n",
      "'트와이스'의 성적은 100점: PASS\n",
      "'블랙핑크'의 성적은 50점: FAIL\n",
      "'뉴이스트'의 성적은 90점: PASS\n"
     ]
    }
   ],
   "source": [
    "idols = ['BTS', '트와이스', '블랙핑크', '뉴이스트']\n",
    "#성적 입력\n",
    "scores = [int(input(f\"'{idol}'의 성적 입력:\")) for idol in idols]\n",
    "#idols의 요소를 idol로 가져오고 성적 입력받음 conprehention\n",
    "\n",
    "print(\"\"\"-----------------------------------------\n",
    "아이돌 성적 결과\n",
    "-----------------------------------------\"\"\")\n",
    "#결과\n",
    "result=[\"PASS\" if score >= 80 else \"FAIL\" for score in scores]\n",
    "#최종 성적\n",
    "for i, v in enumerate(idols):\n",
    "    print(f\"'{v}'의 성적은 {scores[i]}점: {result[i]}\")"
   ]
  },
  {
   "cell_type": "code",
   "execution_count": 4,
   "id": "d2500f9c",
   "metadata": {},
   "outputs": [
    {
     "name": "stdout",
     "output_type": "stream",
     "text": [
      " i:0, v: BTS\n",
      " i:1, v: 트와이스\n",
      " i:2, v: 블랙핑크\n",
      " i:3, v: 뉴이스트\n"
     ]
    }
   ],
   "source": [
    "for i, v in enumerate(idols):\n",
    "    print(f' i:{i}, v: {v}')\n",
    "    #print(f\"'{v}'의 성적은 {scores[i]}점: {result[i]}\")"
   ]
  },
  {
   "cell_type": "code",
   "execution_count": 30,
   "id": "5422c586",
   "metadata": {},
   "outputs": [
    {
     "name": "stdout",
     "output_type": "stream",
     "text": [
      "YYYYMMDD: 20210721\n",
      "------------------------------\n",
      "2021/1/1 ~ 2021/7/21: 202\n"
     ]
    }
   ],
   "source": [
    "dates = [31, 28, 31, 30, 31, 30, 31, 31, 30, 31, 30, 31]\n",
    "\n",
    "a = input('YYYYMMDD: ')\n",
    "y = int(a[0:4])\n",
    "m = int(a[4:6])\n",
    "d = int(a[6:8])\n",
    "\n",
    "if y % 400 == 0 or (y % 100 != 0 and y % 4 ==0):\n",
    "    dates[1]=29\n",
    "\n",
    "print('-'*30)\n",
    "\n",
    "days = 0\n",
    "for i in range(m-1):\n",
    "    days+=dates[i]\n",
    "days += d\n",
    "\n",
    "print(f'{y}/1/1 ~ {y}/{m}/{d}: {days}')"
   ]
  },
  {
   "cell_type": "code",
   "execution_count": 38,
   "id": "fd1ee4e6",
   "metadata": {},
   "outputs": [
    {
     "name": "stdout",
     "output_type": "stream",
     "text": [
      "시작일(YYMMDD): 20210101\n",
      "목표일(YYMMDD): 20210721\n",
      "20210101 ~ 20210721까지의 소요일은 201 일\n"
     ]
    }
   ],
   "source": [
    "from datetime import datetime\n",
    "\n",
    "start = input('시작일(YYMMDD): ')\n",
    "end = input('목표일(YYMMDD): ')\n",
    "\n",
    "sday = datetime.strptime(start, '%Y%m%d')\n",
    "eday = datetime.strptime(end, '%Y%m%d')\n",
    "print(f'{start} ~ {end}까지의 소요일은 {(eday - sday).days} 일')"
   ]
  },
  {
   "cell_type": "code",
   "execution_count": null,
   "id": "85b3ac22",
   "metadata": {},
   "outputs": [],
   "source": []
  }
 ],
 "metadata": {
  "kernelspec": {
   "display_name": "Python 3 (ipykernel)",
   "language": "python",
   "name": "python3"
  },
  "language_info": {
   "codemirror_mode": {
    "name": "ipython",
    "version": 3
   },
   "file_extension": ".py",
   "mimetype": "text/x-python",
   "name": "python",
   "nbconvert_exporter": "python",
   "pygments_lexer": "ipython3",
   "version": "3.8.10"
  }
 },
 "nbformat": 4,
 "nbformat_minor": 5
}
