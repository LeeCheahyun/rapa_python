{
 "cells": [
  {
   "cell_type": "code",
   "execution_count": null,
   "id": "a9580233",
   "metadata": {},
   "outputs": [],
   "source": [
    "import os\n",
    "print('_file_')\n",
    "print(1, os.path.dirname('test.py'))\n",
    "print(2, os.path.realpath('test.py'))\n",
    "print(3, os.path.abspath('test.py'))\n",
    "print(4, os.getcwd()) # 현재 디렉토리\n",
    "print(5, os.path.dirname(os.path.realpath('test.py')))"
   ]
  },
  {
   "cell_type": "code",
   "execution_count": null,
   "id": "20f75354",
   "metadata": {},
   "outputs": [],
   "source": [
    "import os\n",
    "\n",
    "print(os.listdir(os.getcwd()))"
   ]
  },
  {
   "cell_type": "code",
   "execution_count": null,
   "id": "6856a88d",
   "metadata": {},
   "outputs": [],
   "source": [
    "import os\n",
    "\n",
    "dir = '../' #디렉토리 지정, './':현재 디렉토리, '../': 이전(parent) 디렉토리\n",
    "os.chdir(dir) #디렉토리 변경\n",
    "path = os.getcwd() #변경된 디렉토리 확인\n",
    "print(path)"
   ]
  },
  {
   "cell_type": "code",
   "execution_count": null,
   "id": "7f3d4e6a",
   "metadata": {},
   "outputs": [],
   "source": [
    "# 디렉토리 생성하기\n",
    "import os\n",
    "\n",
    "def createFolder(directory) :\n",
    "    try:\n",
    "        if not os.path.exists(directory):\n",
    "            os.makedirs(directory)\n",
    "    except OSError:\n",
    "        print('Error: Creating directory.' + directory)\n",
    "        \n",
    "dirname = 'C:/aaa/rapa/data' # '/Users/aaron/Desktop/test'\n",
    "createFolder(dirname)"
   ]
  },
  {
   "cell_type": "code",
   "execution_count": null,
   "id": "128771c4",
   "metadata": {},
   "outputs": [],
   "source": [
    "def createFolder(directory) :\n",
    "    os.makedirs(directory)\n",
    "\n",
    "        \n",
    "dirname = 'C:/aaa/rapa/data' # '/Users/aaron/Desktop/test'\n",
    "createFolder(dirname)"
   ]
  },
  {
   "cell_type": "code",
   "execution_count": null,
   "id": "0302c67d",
   "metadata": {},
   "outputs": [],
   "source": [
    "# 디렉토리 삭제하기\n",
    "import os\n",
    "\n",
    "def deleteFolder(directory) :\n",
    "    try:\n",
    "        if os.path.exists(directory):\n",
    "            os.rmdir(directory)\n",
    "    except OSError:\n",
    "        print('Error: deletng directory.' + directory)\n",
    "        \n",
    "dirname = 'C;/aaa/rapa/data' #'/Users/aaron/Desktop/test'\n",
    "deleteFolder(dirname)"
   ]
  },
  {
   "cell_type": "code",
   "execution_count": null,
   "id": "2c21ac5f",
   "metadata": {},
   "outputs": [],
   "source": [
    "import os\n",
    "\n",
    "#특정 디렉토리 위치로 변경\n",
    "def getDirList(dirname, printOption=False):\n",
    "    print(os.listdir(os.getcwd()))\n",
    "print(getDirList('./'))\n",
    "print(getDirList('C:/python/rapa', True))\n",
    "print(getDirList('../', False))"
   ]
  },
  {
   "cell_type": "code",
   "execution_count": null,
   "id": "56952d1d",
   "metadata": {},
   "outputs": [],
   "source": [
    "import os\n",
    "def getDirList(dirname, printOption=False):\n",
    "    list_file = os.listdir(dirname)\n",
    "    for file in (list_file):\n",
    "        if printOption :\n",
    "            print(os.path.dirname(os.path.realpath(file)),file)\n",
    "        else :\n",
    "            print(file)\n",
    "print(getDirList('./'))\n",
    "print(getDirList('c:/python/rapa',True))\n",
    "print(getDirList('../',False))"
   ]
  },
  {
   "cell_type": "code",
   "execution_count": null,
   "id": "bb83dea7",
   "metadata": {},
   "outputs": [],
   "source": [
    "f = open(\"C:/python/새파일.txt\", 'w')\n",
    "f.close()"
   ]
  },
  {
   "cell_type": "code",
   "execution_count": null,
   "id": "c7e2afe6",
   "metadata": {},
   "outputs": [],
   "source": [
    "# wirtedata.py\n",
    "f = open(\"C:/python/새파일.txt\",'w')\n",
    "for i in range(1,11): #1~10까지\n",
    "    data = \"%d 번째 줄입니다.\\n\" %i\n",
    "    f.write(data)\n",
    "f.close()"
   ]
  },
  {
   "cell_type": "code",
   "execution_count": null,
   "id": "94a31197",
   "metadata": {},
   "outputs": [],
   "source": [
    "# readdata.py\n",
    "#1. 파일에서 1줄 읽어서 화면에 출력하기\n",
    "f = open(\"C:/python/새파일.txt\",'r')\n",
    "line = f.readline()\n",
    "print(line)\n",
    "f.close()"
   ]
  },
  {
   "cell_type": "code",
   "execution_count": null,
   "id": "fb7beffb",
   "metadata": {},
   "outputs": [],
   "source": [
    "# readdata.py\n",
    "# 2. 파일에서 모든 라인 읽어서 화면에 출력하기\n",
    "f = open(\"C:/python/새파일.txt\",'r')\n",
    "while True:\n",
    "    line = f.readline()\n",
    "    if not line: break\n",
    "    print(line)\n",
    "f.close()"
   ]
  },
  {
   "cell_type": "code",
   "execution_count": null,
   "id": "70858665",
   "metadata": {},
   "outputs": [],
   "source": [
    "with open(\"C:/python/새파일.txt\",'w') as f:\n",
    "    f.write(\"사랑해요, 파이썬!\")"
   ]
  },
  {
   "cell_type": "code",
   "execution_count": null,
   "id": "19acba18",
   "metadata": {},
   "outputs": [],
   "source": [
    "with open(\"C:/python/새파일.txt\",'w') as f:\n",
    "    for i in range(1,11):\n",
    "        data = \"%d 번째 줄입니다.\\n\"%i\n",
    "        f.write(data)"
   ]
  },
  {
   "cell_type": "code",
   "execution_count": null,
   "id": "314b63ab",
   "metadata": {},
   "outputs": [],
   "source": [
    "with open(\"C:/python/새파일.txt\",'r+') as f:\n",
    "    data = f.read()\n",
    "    print(data)\n",
    "    data = data.replace(\"줄\",\"사람\")\n",
    "    print(data)\n",
    "    f.write(data)\n",
    "    print(\"end\")"
   ]
  },
  {
   "cell_type": "code",
   "execution_count": null,
   "id": "b2d1e312",
   "metadata": {},
   "outputs": [],
   "source": [
    "import random\n",
    "\n",
    "with open(\"C:/python/sample.txt\",'w') as f:\n",
    "    for i in range(10):\n",
    "        f.write('%d\\n'%random.randrange(1,101))"
   ]
  },
  {
   "cell_type": "code",
   "execution_count": null,
   "id": "d25376b7",
   "metadata": {},
   "outputs": [],
   "source": [
    "import numpy\n",
    "\n",
    "with open(\"C:/python/sample.txt\",'r') as f:\n",
    "    data = f.read()\n",
    "    print('[data]의\\n총합은 %d 입니다.\\n평균은 %d 입니다.')%sum(data)%numpy.mean(data)"
   ]
  },
  {
   "cell_type": "code",
   "execution_count": null,
   "id": "3bad8b7d",
   "metadata": {},
   "outputs": [],
   "source": [
    "hap, avg = 0, 0\n",
    "\n",
    "f1 = open('C:/python/sample.txt', 'r')\n",
    "f2 = open(\"C:/python/result.txt\", 'w')\n",
    "\n",
    "lines = f1.readlines()\n",
    "\n",
    "for line in lines:\n",
    "    hap += int(line)\n",
    "avg = hap / len(lines)\n",
    "\n",
    "sentence = f'총합은 {hap} 입니다. \\n평균은 {avg} 입니다.'\n",
    "print(sentence)\n",
    "f2.write(sentence)\n",
    "\n",
    "f1.close"
   ]
  },
  {
   "cell_type": "code",
   "execution_count": null,
   "id": "2e921af3",
   "metadata": {},
   "outputs": [],
   "source": [
    "hap, avg = 0, 0\n",
    "with open('C:/python/sample.txt', 'r') as f1:\n",
    "    data = [int(line) for line in f1.readlines()]\n",
    "    hap = sum(data)\n",
    "    avg = hap/len(data)\n",
    "context = f'{data}의 \\n총합은 {hap} 입니다.\\n평균은 {avg} 입니다.'\n",
    "print(context)\n",
    "with open(\"C:/python/result.txt\", 'w') as f2:\n",
    "    f2.write(context)"
   ]
  },
  {
   "cell_type": "code",
   "execution_count": 1,
   "id": "5cea80aa",
   "metadata": {},
   "outputs": [
    {
     "name": "stdout",
     "output_type": "stream",
     "text": [
      "Note: you may need to restart the kernel to use updated packages.\n"
     ]
    },
    {
     "name": "stderr",
     "output_type": "stream",
     "text": [
      "파일 이름, 디렉터리 이름 또는 볼륨 레이블 구문이 잘못되었습니다.\n"
     ]
    }
   ],
   "source": []
  },
  {
   "cell_type": "code",
   "execution_count": null,
   "id": "a1129a8f",
   "metadata": {},
   "outputs": [],
   "source": []
  },
  {
   "cell_type": "code",
   "execution_count": null,
   "id": "55d83040",
   "metadata": {},
   "outputs": [],
   "source": []
  }
 ],
 "metadata": {
  "kernelspec": {
   "display_name": "Python 3 (ipykernel)",
   "language": "python",
   "name": "python3"
  },
  "language_info": {
   "codemirror_mode": {
    "name": "ipython",
    "version": 3
   },
   "file_extension": ".py",
   "mimetype": "text/x-python",
   "name": "python",
   "nbconvert_exporter": "python",
   "pygments_lexer": "ipython3",
   "version": "3.8.10"
  }
 },
 "nbformat": 4,
 "nbformat_minor": 5
}
