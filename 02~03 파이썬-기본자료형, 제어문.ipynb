{
 "cells": [
  {
   "cell_type": "code",
   "execution_count": 1,
   "id": "e95bbdf4",
   "metadata": {},
   "outputs": [
    {
     "data": {
      "text/plain": [
       "'사'"
      ]
     },
     "execution_count": 1,
     "metadata": {},
     "output_type": "execute_result"
    }
   ],
   "source": [
    "a = \"사랑해요, 파이썬!\"\n",
    "\n",
    "a[0]"
   ]
  },
  {
   "cell_type": "code",
   "execution_count": 2,
   "id": "51e8bbcb",
   "metadata": {},
   "outputs": [
    {
     "data": {
      "text/plain": [
       "'사랑해'"
      ]
     },
     "execution_count": 2,
     "metadata": {},
     "output_type": "execute_result"
    }
   ],
   "source": [
    "a[0:3]"
   ]
  },
  {
   "cell_type": "markdown",
   "id": "c21739db",
   "metadata": {},
   "source": [
    "# %는 거기에 변수를 대입한단 의미. %d는 정수, %f는 실수, %s는 문자열"
   ]
  },
  {
   "cell_type": "code",
   "execution_count": 3,
   "id": "47290adc",
   "metadata": {},
   "outputs": [
    {
     "data": {
      "text/plain": [
       "'    python'"
      ]
     },
     "execution_count": 3,
     "metadata": {},
     "output_type": "execute_result"
    }
   ],
   "source": [
    "\"%10s\"%\"python\""
   ]
  },
  {
   "cell_type": "code",
   "execution_count": 4,
   "id": "b2954c4f",
   "metadata": {},
   "outputs": [
    {
     "data": {
      "text/plain": [
       "'       파이썬'"
      ]
     },
     "execution_count": 4,
     "metadata": {},
     "output_type": "execute_result"
    }
   ],
   "source": [
    "\"%10s\"%\"파이썬\""
   ]
  },
  {
   "cell_type": "code",
   "execution_count": 7,
   "id": "3e4934e9",
   "metadata": {},
   "outputs": [
    {
     "data": {
      "text/plain": [
       "'사랑해요      파이썬'"
      ]
     },
     "execution_count": 7,
     "metadata": {},
     "output_type": "execute_result"
    }
   ],
   "source": [
    "\"%-10s파이썬\"%\"사랑해요\""
   ]
  },
  {
   "cell_type": "code",
   "execution_count": 8,
   "id": "a22e40d8",
   "metadata": {},
   "outputs": [
    {
     "data": {
      "text/plain": [
       "'3.4213'"
      ]
     },
     "execution_count": 8,
     "metadata": {},
     "output_type": "execute_result"
    }
   ],
   "source": [
    "\"%0.4f\"%3.4213423"
   ]
  },
  {
   "cell_type": "code",
   "execution_count": 9,
   "id": "acad3cce",
   "metadata": {},
   "outputs": [
    {
     "data": {
      "text/plain": [
       "'    3.4213'"
      ]
     },
     "execution_count": 9,
     "metadata": {},
     "output_type": "execute_result"
    }
   ],
   "source": [
    "\"%10.4f\"%3.4213423"
   ]
  },
  {
   "cell_type": "code",
   "execution_count": 10,
   "id": "bb6baaa1",
   "metadata": {},
   "outputs": [
    {
     "data": {
      "text/plain": [
       "'3.4213    '"
      ]
     },
     "execution_count": 10,
     "metadata": {},
     "output_type": "execute_result"
    }
   ],
   "source": [
    "\"%-10.4f\"%3.4213423"
   ]
  },
  {
   "cell_type": "code",
   "execution_count": 13,
   "id": "58764a1a",
   "metadata": {},
   "outputs": [
    {
     "data": {
      "text/plain": [
       "2"
      ]
     },
     "execution_count": 13,
     "metadata": {},
     "output_type": "execute_result"
    }
   ],
   "source": [
    "a = \"hobby\"\n",
    "a.count('b')"
   ]
  },
  {
   "cell_type": "code",
   "execution_count": 14,
   "id": "fc1683b1",
   "metadata": {},
   "outputs": [
    {
     "data": {
      "text/plain": [
       "10"
      ]
     },
     "execution_count": 14,
     "metadata": {},
     "output_type": "execute_result"
    }
   ],
   "source": [
    "a = \"Python is best choice\"\n",
    "\n",
    "a.find('b')"
   ]
  },
  {
   "cell_type": "code",
   "execution_count": 15,
   "id": "0003e57f",
   "metadata": {},
   "outputs": [
    {
     "data": {
      "text/plain": [
       "7"
      ]
     },
     "execution_count": 15,
     "metadata": {},
     "output_type": "execute_result"
    }
   ],
   "source": [
    "a.find('is')"
   ]
  },
  {
   "cell_type": "code",
   "execution_count": 19,
   "id": "83ebd267",
   "metadata": {},
   "outputs": [
    {
     "data": {
      "text/plain": [
       "-1"
      ]
     },
     "execution_count": 19,
     "metadata": {},
     "output_type": "execute_result"
    }
   ],
   "source": [
    "a.find('l')"
   ]
  },
  {
   "cell_type": "code",
   "execution_count": 20,
   "id": "2fd72383",
   "metadata": {},
   "outputs": [
    {
     "data": {
      "text/plain": [
       "10"
      ]
     },
     "execution_count": 20,
     "metadata": {},
     "output_type": "execute_result"
    }
   ],
   "source": [
    "a.index('b')"
   ]
  },
  {
   "cell_type": "code",
   "execution_count": 21,
   "id": "dd6b147e",
   "metadata": {},
   "outputs": [
    {
     "ename": "ValueError",
     "evalue": "substring not found",
     "output_type": "error",
     "traceback": [
      "\u001b[1;31m---------------------------------------------------------------------------\u001b[0m",
      "\u001b[1;31mValueError\u001b[0m                                Traceback (most recent call last)",
      "\u001b[1;32m~\\AppData\\Local\\Temp/ipykernel_520/1977862291.py\u001b[0m in \u001b[0;36m<module>\u001b[1;34m\u001b[0m\n\u001b[1;32m----> 1\u001b[1;33m \u001b[0ma\u001b[0m\u001b[1;33m.\u001b[0m\u001b[0mindex\u001b[0m\u001b[1;33m(\u001b[0m\u001b[1;34m'k'\u001b[0m\u001b[1;33m)\u001b[0m\u001b[1;33m\u001b[0m\u001b[1;33m\u001b[0m\u001b[0m\n\u001b[0m",
      "\u001b[1;31mValueError\u001b[0m: substring not found"
     ]
    }
   ],
   "source": [
    "a.index('k')"
   ]
  },
  {
   "cell_type": "code",
   "execution_count": 22,
   "id": "341a1180",
   "metadata": {},
   "outputs": [
    {
     "data": {
      "text/plain": [
       "'a,b,c,d'"
      ]
     },
     "execution_count": 22,
     "metadata": {},
     "output_type": "execute_result"
    }
   ],
   "source": [
    "a = \",\"\n",
    "a.join('abcd')"
   ]
  },
  {
   "cell_type": "code",
   "execution_count": 23,
   "id": "18858096",
   "metadata": {},
   "outputs": [
    {
     "data": {
      "text/plain": [
       "'파!이!썬'"
      ]
     },
     "execution_count": 23,
     "metadata": {},
     "output_type": "execute_result"
    }
   ],
   "source": [
    "a = \"!\"\n",
    "a.join(\"파이썬\")"
   ]
  },
  {
   "cell_type": "code",
   "execution_count": 25,
   "id": "e49a7ed7",
   "metadata": {},
   "outputs": [
    {
     "data": {
      "text/plain": [
       "'PYTHON'"
      ]
     },
     "execution_count": 25,
     "metadata": {},
     "output_type": "execute_result"
    }
   ],
   "source": [
    "a = \"python\"\n",
    "a.upper()"
   ]
  },
  {
   "cell_type": "code",
   "execution_count": 26,
   "id": "3e0142c0",
   "metadata": {},
   "outputs": [
    {
     "data": {
      "text/plain": [
       "'python'"
      ]
     },
     "execution_count": 26,
     "metadata": {},
     "output_type": "execute_result"
    }
   ],
   "source": [
    "a.lower()"
   ]
  },
  {
   "cell_type": "code",
   "execution_count": 27,
   "id": "c8d8b595",
   "metadata": {},
   "outputs": [
    {
     "data": {
      "text/plain": [
       "'파이썬'"
      ]
     },
     "execution_count": 27,
     "metadata": {},
     "output_type": "execute_result"
    }
   ],
   "source": [
    "a = \"  파이썬  \"\n",
    "a.strip()"
   ]
  },
  {
   "cell_type": "code",
   "execution_count": 29,
   "id": "7509f8cf",
   "metadata": {},
   "outputs": [
    {
     "data": {
      "text/plain": [
       "'파이썬  '"
      ]
     },
     "execution_count": 29,
     "metadata": {},
     "output_type": "execute_result"
    }
   ],
   "source": [
    "a.lstrip()"
   ]
  },
  {
   "cell_type": "code",
   "execution_count": 30,
   "id": "06d088f5",
   "metadata": {},
   "outputs": [
    {
     "data": {
      "text/plain": [
       "'  파이썬'"
      ]
     },
     "execution_count": 30,
     "metadata": {},
     "output_type": "execute_result"
    }
   ],
   "source": [
    "a.rstrip()"
   ]
  },
  {
   "cell_type": "code",
   "execution_count": 31,
   "id": "33e6190a",
   "metadata": {},
   "outputs": [
    {
     "data": {
      "text/plain": [
       "'Your leg is too short'"
      ]
     },
     "execution_count": 31,
     "metadata": {},
     "output_type": "execute_result"
    }
   ],
   "source": [
    "a = \"Life is too short\"\n",
    "a.replace(\"Life\",\"Your leg\")"
   ]
  },
  {
   "cell_type": "code",
   "execution_count": 32,
   "id": "a450634f",
   "metadata": {},
   "outputs": [
    {
     "data": {
      "text/plain": [
       "['Life', 'is', 'too', 'short']"
      ]
     },
     "execution_count": 32,
     "metadata": {},
     "output_type": "execute_result"
    }
   ],
   "source": [
    "a.split()"
   ]
  },
  {
   "cell_type": "code",
   "execution_count": 33,
   "id": "3b099709",
   "metadata": {},
   "outputs": [
    {
     "data": {
      "text/plain": [
       "['a,b,c,d']"
      ]
     },
     "execution_count": 33,
     "metadata": {},
     "output_type": "execute_result"
    }
   ],
   "source": [
    "a = \"a,b,c,d\"\n",
    "a.split('.')"
   ]
  },
  {
   "cell_type": "code",
   "execution_count": 34,
   "id": "0032a319",
   "metadata": {},
   "outputs": [],
   "source": [
    "# 화장실 가고싶다"
   ]
  },
  {
   "cell_type": "code",
   "execution_count": 35,
   "id": "4c1a6275",
   "metadata": {},
   "outputs": [
    {
     "name": "stdout",
     "output_type": "stream",
     "text": [
      "50532\n"
     ]
    }
   ],
   "source": [
    "print(ord('앤'))"
   ]
  },
  {
   "cell_type": "code",
   "execution_count": 36,
   "id": "e16093d1",
   "metadata": {},
   "outputs": [
    {
     "name": "stdout",
     "output_type": "stream",
     "text": [
      "52880\n"
     ]
    }
   ],
   "source": [
    "print(ord('캐'))"
   ]
  },
  {
   "cell_type": "code",
   "execution_count": 39,
   "id": "26a883bd",
   "metadata": {},
   "outputs": [
    {
     "name": "stdout",
     "output_type": "stream",
     "text": [
      "앤\n",
      "캐\n"
     ]
    }
   ],
   "source": [
    "print(chr(50532))\n",
    "print(chr(52880))"
   ]
  },
  {
   "cell_type": "code",
   "execution_count": 41,
   "id": "552056d5",
   "metadata": {},
   "outputs": [
    {
     "name": "stdout",
     "output_type": "stream",
     "text": [
      "문자열을 입력하세요: 사랑해요 파이썬!\n",
      "!썬이파 요해랑사\n"
     ]
    }
   ],
   "source": [
    "s = input('문자열을 입력하세요: ')\n",
    "print(s[::-1])"
   ]
  },
  {
   "cell_type": "code",
   "execution_count": 1,
   "id": "e9bf0e25",
   "metadata": {},
   "outputs": [
    {
     "name": "stdout",
     "output_type": "stream",
     "text": [
      "파일을 입력하세요: test.py\n",
      "파일: test.py\n",
      "파일명:test,확장자: py\n"
     ]
    }
   ],
   "source": [
    "a = input('파일을 입력하세요: ')\n",
    "b = a.split('.')\n",
    "print('파일:',a)\n",
    "print(f'파일명:{b[0]},확장자: {b[1]}')"
   ]
  },
  {
   "cell_type": "code",
   "execution_count": 8,
   "id": "64236831",
   "metadata": {},
   "outputs": [
    {
     "name": "stdout",
     "output_type": "stream",
     "text": [
      "파일을 입력하세요: test.py\n",
      "파일: test.py\n",
      "파일명:test, 확장자:py\n"
     ]
    }
   ],
   "source": [
    "a = input('파일을 입력하세요: ')\n",
    "b = a.split('.')\n",
    "print('파일:',a)\n",
    "print('파일명:%s, 확장자:%s'%(b[0],b[1]))"
   ]
  },
  {
   "cell_type": "code",
   "execution_count": 9,
   "id": "4c2510b9",
   "metadata": {},
   "outputs": [
    {
     "data": {
      "text/plain": [
       "datetime.datetime(2021, 8, 24, 10, 52, 54, 996997)"
      ]
     },
     "execution_count": 9,
     "metadata": {},
     "output_type": "execute_result"
    }
   ],
   "source": [
    "import datetime\n",
    "datetime.datetime.now()"
   ]
  },
  {
   "cell_type": "code",
   "execution_count": 13,
   "id": "5d65a46d",
   "metadata": {},
   "outputs": [
    {
     "data": {
      "text/plain": [
       "1629770134.1692393"
      ]
     },
     "execution_count": 13,
     "metadata": {},
     "output_type": "execute_result"
    }
   ],
   "source": [
    "import time\n",
    "time.time()"
   ]
  },
  {
   "cell_type": "code",
   "execution_count": 14,
   "id": "12ebfb9c",
   "metadata": {},
   "outputs": [
    {
     "data": {
      "text/plain": [
       "time.struct_time(tm_year=2021, tm_mon=8, tm_mday=24, tm_hour=10, tm_min=55, tm_sec=43, tm_wday=1, tm_yday=236, tm_isdst=0)"
      ]
     },
     "execution_count": 14,
     "metadata": {},
     "output_type": "execute_result"
    }
   ],
   "source": [
    "import time\n",
    "time.localtime()"
   ]
  },
  {
   "cell_type": "code",
   "execution_count": 23,
   "id": "4884354a",
   "metadata": {},
   "outputs": [
    {
     "name": "stdout",
     "output_type": "stream",
     "text": [
      "2021-08-24 11:07:11.990529\n",
      "2021-08-24 11:07:11.990529\n",
      "지금 시각은 2021년08월24일 11시07분11초 입니다.\n"
     ]
    }
   ],
   "source": [
    "import datetime\n",
    "print(datetime.datetime.now())\n",
    "now = str(datetime.datetime.now())\n",
    "print(now)\n",
    "\n",
    "year = now[0:4]\n",
    "month = now[5:7]\n",
    "day = now[8:10]\n",
    "hour = now[11:13]\n",
    "minute = now[14:16]\n",
    "second = now[17:19]\n",
    "\n",
    "print(f'지금 시각은 {year}년{month}월{day}일 {hour}시{minute}분{second}초 입니다.')"
   ]
  },
  {
   "cell_type": "code",
   "execution_count": 28,
   "id": "1267c6b6",
   "metadata": {},
   "outputs": [
    {
     "name": "stdout",
     "output_type": "stream",
     "text": [
      "2021-08-24 11:16:55.095223\n"
     ]
    },
    {
     "data": {
      "text/plain": [
       "'2021-08-24 11:16:55'"
      ]
     },
     "execution_count": 28,
     "metadata": {},
     "output_type": "execute_result"
    }
   ],
   "source": [
    "import datetime\n",
    "\n",
    "# 문자열 슬라이싱\n",
    "now = datetime.datetime.now()\n",
    "s_now = str(datetime.datetime.now())\n",
    "print(s_now)\n",
    "\n",
    "# 오브젝트에서 함수이용\n",
    "now.strftime('%Y-%m-%d %H:%M:%S')"
   ]
  },
  {
   "cell_type": "code",
   "execution_count": 41,
   "id": "fca11ac6",
   "metadata": {},
   "outputs": [
    {
     "name": "stdout",
     "output_type": "stream",
     "text": [
      "[환율정보 불러오기]\n",
      "-환율기준시간: 2021.08.24 12:04\n",
      "-달러: 1,166.70\n",
      "-위안: 179.97\n",
      "-유로: 1,369.65\n",
      "-엔화: 1,063.25\n",
      "-뉴질: 804.56\n",
      "-캐나다: 922.18\n"
     ]
    }
   ],
   "source": [
    "import urllib.request\n",
    "import ssl\n",
    "context = ssl._create_unverified_context()\n",
    "\n",
    "#환율정보 페이지 불러오기\n",
    "print(\"[환율정보 불러오기]\")\n",
    "URL = \"https://search.naver.com/search.naver?where=nexearch&sm=top_hty&fbm=1&ie=utf8&query=%ED%99%98%EC%9C%A8\"\n",
    "page = urllib.request.urlopen(URL, context=context)\n",
    "text = page.read().decode(\"utf8\")  # 해당 페이지의 소스코드\n",
    "#print(text)\n",
    "\n",
    "#환율정보 가져오기: 기준시간\n",
    "searchText = 'class=\"grp_info\"> <em>'\n",
    "where      = text.find(searchText)  #소스코드에서 해당 문자열의 시작위치\n",
    "targetInfo = text[where+len(searchText):where+len(searchText)+16]\n",
    "print(f'-환율기준시간: {targetInfo}')\n",
    "\n",
    "#환율정보 가져오기: 달러\n",
    "searchText = '<span>미국 <em>USD</em></span></a></th> <td><span>'\n",
    "where      = text.find(searchText)\n",
    "targetInfo = text[where+len(searchText):where+len(searchText)+8]\n",
    "print(f'-달러: {targetInfo}')\n",
    "\n",
    "#환율정보 가져오기: 위안\n",
    "searchText = '<span>중국 <em>CNY</em></span></a></th> <td><span>'\n",
    "where      = text.find(searchText)\n",
    "targetInfo = text[where+len(searchText):where+len(searchText)+6]\n",
    "print(f'-위안: {targetInfo}')\n",
    "\n",
    "#환율정보 가져오기:유로화\n",
    "searchText = '<span>유럽연합 <em>EUR</em></span></a></th> <td><span>'\n",
    "where      = text.find(searchText)\n",
    "targetInfo = text[where+len(searchText):where+len(searchText)+8]\n",
    "print(f'-유로: {targetInfo}')\n",
    "\n",
    "#환율정보 가져오기:엔화\n",
    "searchText = '<span>일본 <em>JPY 100</em></span></a></th> <td><span>'\n",
    "where      = text.find(searchText)\n",
    "targetInfo = text[where+len(searchText):where+len(searchText)+8]\n",
    "print(f'-엔화: {targetInfo}')\n",
    "\n",
    "#환율정보 가져오기:뉴질랜드\n",
    "searchText = '<span>뉴질랜드 <em>NZD</em></span></a></th> <td><span>'\n",
    "where      = text.find(searchText)\n",
    "targetInfo = text[where+len(searchText):where+len(searchText)+6]\n",
    "print(f'-뉴질: {targetInfo}')\n",
    "\n",
    "searchText = '<span>캐나다 <em>CAD</em></span></a></th> <td><span>'\n",
    "where      = text.find(searchText)\n",
    "targetInfo = text[where+len(searchText):where+len(searchText)+6]\n",
    "print(f'-캐나다: {targetInfo}')"
   ]
  },
  {
   "cell_type": "code",
   "execution_count": 42,
   "id": "5e6eec40",
   "metadata": {},
   "outputs": [],
   "source": [
    "#배고프다"
   ]
  },
  {
   "cell_type": "code",
   "execution_count": 46,
   "id": "8d6b4819",
   "metadata": {},
   "outputs": [
    {
     "name": "stdout",
     "output_type": "stream",
     "text": [
      "True\n"
     ]
    }
   ],
   "source": [
    "num1 = 3\n",
    "num2 = 10\n",
    "lst = [1, 2, 3, 4, 5]\n",
    "\n",
    "print(num1 in lst)"
   ]
  },
  {
   "cell_type": "code",
   "execution_count": 48,
   "id": "d1fde968",
   "metadata": {},
   "outputs": [
    {
     "name": "stdout",
     "output_type": "stream",
     "text": [
      "시프트할 숫자는?: 500\n",
      "출력할 횟수는?: 3\n",
      "500 << 1 = 1000\n",
      "500 << 2 = 2000\n",
      "500 << 3 = 4000\n",
      "500 >> 1 = 250\n",
      "500 >> 2 = 125\n",
      "500 >> 3 = 62\n"
     ]
    }
   ],
   "source": [
    "a = int(input(\"시프트할 숫자는?: \"))\n",
    "loop = int(input(\"출력할 횟수는?: \"))\n",
    "\n",
    "for i in range(loop) :\n",
    "    print(\"%d << %d = %d\" % (a, i+1, a << i+1))\n",
    "    \n",
    "for i in range(loop) :\n",
    "    print(\"%d >> %d = %d\" % (a, i+1, a >> i+1))"
   ]
  },
  {
   "cell_type": "code",
   "execution_count": 49,
   "id": "e9388776",
   "metadata": {},
   "outputs": [
    {
     "data": {
      "text/plain": [
       "False"
      ]
     },
     "execution_count": 49,
     "metadata": {},
     "output_type": "execute_result"
    }
   ],
   "source": [
    "hobby1 = '영화감상'\n",
    "hobby2 = '수영'\n",
    "my_hobby = '독서'\n",
    "my_hobby == hobby1 or my_hobby == hobby2"
   ]
  },
  {
   "cell_type": "code",
   "execution_count": 15,
   "id": "39d53040",
   "metadata": {},
   "outputs": [
    {
     "name": "stdout",
     "output_type": "stream",
     "text": [
      "동전으로 교환할 금액을 입력하세요: 4321\n",
      "500원짜리 ==> 8개\n",
      "100원짜리 ==> 3개\n",
      "50원짜리 ==> 0개\n",
      "10원짜리 ==> 2개\n",
      "잔돈 ==> 1개\n"
     ]
    }
   ],
   "source": [
    "a = int(input(\"동전으로 교환할 금액을 입력하세요: \"))\n",
    "\n",
    "print(f\"500원짜리 ==> {a//500}개\")\n",
    "print(f\"100원짜리 ==> {(a%500)//100}개\")\n",
    "print(f\"50원짜리 ==> {(a%100)//50}개\")\n",
    "print(f\"10원짜리 ==> {(a%50)//10}개\")\n",
    "print(f\"잔돈 ==> {(a%10)}개\")"
   ]
  },
  {
   "cell_type": "code",
   "execution_count": 16,
   "id": "be9584f9",
   "metadata": {},
   "outputs": [
    {
     "name": "stdout",
     "output_type": "stream",
     "text": [
      "교환할 금액을 입력하세요: 4321\n",
      "500원 짜리 ==> 8개\n",
      "100원 짜리 ==> 3개\n",
      "50원 짜리 ==> 0개\n",
      "10원 짜리 ==> 2개\n",
      "1원 짜리 ==> 1개\n"
     ]
    }
   ],
   "source": [
    "교환할_금액 = int(input(\"교환할 금액을 입력하세요: \"))\n",
    "오백원 = 교환할_금액 // 500\n",
    "print (f'500원 짜리 ==> {오백원}개')\n",
    "백원 = (교환할_금액-오백원*500) // 100\n",
    "print (f'100원 짜리 ==> {백원}개')\n",
    "오십원 = (교환할_금액-오백원*500-백원*100) // 50\n",
    "print (f'50원 짜리 ==> {오십원}개')\n",
    "십원 = (교환할_금액-오백원*500-백원*100-오십원*50) // 10\n",
    "print (f'10원 짜리 ==> {십원}개')\n",
    "잔돈 =  (교환할_금액-오백원*500-백원*100-오십원*50-십원*10)\n",
    "print (f'1원 짜리 ==> {잔돈}개')"
   ]
  },
  {
   "cell_type": "markdown",
   "id": "c6b147a8",
   "metadata": {},
   "source": [
    "# 제어문 (조건문, 반복문)"
   ]
  },
  {
   "cell_type": "markdown",
   "id": "0b00c88b",
   "metadata": {},
   "source": [
    "## if"
   ]
  },
  {
   "cell_type": "code",
   "execution_count": 3,
   "id": "f0c73295",
   "metadata": {},
   "outputs": [
    {
     "name": "stdout",
     "output_type": "stream",
     "text": [
      "점수를 입력하세요: 99\n",
      "A\n",
      "학점입니다. ^^\n"
     ]
    }
   ],
   "source": [
    "score = int(input(\"점수를 입력하세요: \"))\n",
    "\n",
    "if score>=90 :\n",
    "    print(\"A\")\n",
    "elif score>=80 :\n",
    "    print(\"B\")\n",
    "elif score>=70 :\n",
    "    print(\"C\")\n",
    "elif score>=60 :\n",
    "    print(\"D\")\n",
    "else :\n",
    "    print(\"F\")\n",
    "    \n",
    "print(\"학점입니다. ^^\")"
   ]
  },
  {
   "cell_type": "code",
   "execution_count": 14,
   "id": "97668577",
   "metadata": {},
   "outputs": [
    {
     "name": "stdout",
     "output_type": "stream",
     "text": [
      "숫자를 입력해 주세요: 50\n",
      "입력된 수: 50 ==> 짝수\n"
     ]
    }
   ],
   "source": [
    "x = int(input('숫자를 입력해 주세요: '))\n",
    "if x % 2 == 0:\n",
    "    print(f'입력된 수: {x} ==> 짝수')\n",
    "else :\n",
    "    print(f'입력된 수: {x} ==> 홀수')"
   ]
  },
  {
   "cell_type": "code",
   "execution_count": 23,
   "id": "b02cd56c",
   "metadata": {},
   "outputs": [
    {
     "name": "stdout",
     "output_type": "stream",
     "text": [
      "성적을 입력해 주세요: 79\n",
      "성적: 79 는 c 등급 입니다.\n"
     ]
    }
   ],
   "source": [
    "x = int(input('성적을 입력해 주세요: '))\n",
    "\n",
    "if 89 < x :\n",
    "    grade = 'a'\n",
    "elif 80 <= x :\n",
    "    grade = 'b'\n",
    "elif 70 <= x :\n",
    "    grade = 'c'\n",
    "else :\n",
    "    grade = 'd'\n",
    "    \n",
    "print(f'성적: {x} 는 {grade} 등급 입니다.')"
   ]
  },
  {
   "cell_type": "code",
   "execution_count": 53,
   "id": "e2dda0c3",
   "metadata": {},
   "outputs": [
    {
     "name": "stdout",
     "output_type": "stream",
     "text": [
      "주민번호: 191218-1234567\n",
      "1919년 12월 18일, 102세, 남성\n"
     ]
    }
   ],
   "source": [
    "import datetime\n",
    "now = datetime.datetime.now()\n",
    "c_year = now.year #now.month, now.day 등등 #yy += 1900은 yy=yy+1900이라는 뜻~\n",
    "\n",
    "a = input('주민번호: ')\n",
    "\n",
    "yy = a[0:2]\n",
    "mm = a[2:4]\n",
    "dd = a[4:6]\n",
    "G = a[7]\n",
    "\n",
    "if G == '1':\n",
    "    성별 = '남성'\n",
    "    년도 = 1900 + int(yy)\n",
    "if G == '2':\n",
    "    성별 = 'du성'\n",
    "    년도 = 1900 + int(yy)\n",
    "if G == '3':\n",
    "    성별 = '남성'\n",
    "    년도 = 2000 + int(yy)\n",
    "if G == '4':\n",
    "    성별 = '여성'\n",
    "    년도 = 2000 + int(yy)\n",
    "    \n",
    "나이 = int(c_year) - 년도\n",
    "    \n",
    "print(f'{년도}년 {mm}월 {dd}일, {나이}세, {성별}')"
   ]
  },
  {
   "cell_type": "code",
   "execution_count": 47,
   "id": "36ccd222",
   "metadata": {},
   "outputs": [
    {
     "name": "stdout",
     "output_type": "stream",
     "text": [
      "주민번호 : 191218-1234567\n",
      "19년 12월18일,103세, 남자\n"
     ]
    }
   ],
   "source": [
    "num = input('주민번호 : ')\n",
    "year = num[0:2]\n",
    "age=0\n",
    "age=2021-(1900+int(year))+1\n",
    "month=num[2:4]\n",
    "day=num[4:6]\n",
    "seyy=num[7]\n",
    "if seyy=='1' or seyy=='3':\n",
    "    seyy='남자'\n",
    "elif seyy=='2' or seyy=='4':\n",
    "    seyy='여자'\n",
    "print(f'{year}년 {month}월{day}일,{age}세, {seyy}')"
   ]
  },
  {
   "cell_type": "code",
   "execution_count": 66,
   "id": "de58c10a",
   "metadata": {},
   "outputs": [
    {
     "name": "stdout",
     "output_type": "stream",
     "text": [
      "괄호: )))()()(((\n",
      "[')', ')', ')', '(', ')', '(', ')', '(', '(', '(']\n",
      ")\n",
      ")\n",
      ")\n",
      "(\n",
      ")\n",
      "(\n",
      ")\n",
      "(\n",
      "(\n",
      "(\n"
     ]
    }
   ],
   "source": [
    "a_list = list(input('괄호: '))\n",
    "print(a_list)\n",
    "\n",
    "for i in a_list:\n",
    "    print(i)"
   ]
  },
  {
   "cell_type": "code",
   "execution_count": 71,
   "id": "0eb5b698",
   "metadata": {},
   "outputs": [
    {
     "name": "stdout",
     "output_type": "stream",
     "text": [
      "괄호: ))(())((\n",
      "[')', ')', '(', '(', ')', ')', '(', '(']\n",
      "false\n"
     ]
    }
   ],
   "source": [
    "a_list = list(input('괄호: '))\n",
    "print(a_list)\n",
    "\n",
    "t = 0\n",
    "for i in a_list:\n",
    "    if i == '(':\n",
    "        t = t+1\n",
    "    elif i == ')':\n",
    "        t = t-1\n",
    "    if t < 0 :\n",
    "        break\n",
    "if t == 0 :\n",
    "    print('true')\n",
    "else :\n",
    "    print('false')"
   ]
  },
  {
   "cell_type": "markdown",
   "id": "0a7f264f",
   "metadata": {},
   "source": [
    "# 집"
   ]
  },
  {
   "cell_type": "code",
   "execution_count": 5,
   "id": "cfa320c8",
   "metadata": {},
   "outputs": [
    {
     "name": "stdout",
     "output_type": "stream",
     "text": [
      "2021-08-25 14:27:38.702467\n",
      "집에 갈 때까지 3:33:22 남았다!\n"
     ]
    }
   ],
   "source": [
    "import datetime\n",
    "now = str(datetime.datetime.now())\n",
    "print(now)\n",
    "\n",
    "t = int(now[11:13])\n",
    "m = int(now[14:16])\n",
    "s = int(now[17:19])\n",
    "\n",
    "if '60-m' == '00':\n",
    "    x = 18-t\n",
    "else :\n",
    "    x = 17-t\n",
    "\n",
    "print(f'집에 갈 때까지 {x}:{60-m}:{60-s} 남았다!')"
   ]
  },
  {
   "cell_type": "markdown",
   "id": "0bd70cbc",
   "metadata": {},
   "source": [
    "# 커피"
   ]
  },
  {
   "cell_type": "code",
   "execution_count": 116,
   "id": "3d6c9e59",
   "metadata": {},
   "outputs": [
    {
     "name": "stdout",
     "output_type": "stream",
     "text": [
      "[커피 자동주문 머신 메뉴]\n",
      "-----------------------------------\n",
      "-아메리카노는 2500원\n",
      "-카페라테는 3000원\n",
      "-카푸치노는 3000원\n",
      "입니다. 원하시는 커피 종류와 잔수를 입력하세요.\n",
      "-----------------------------------\n",
      "아메리카노 몇잔?: 1531132\n",
      "카페라테 몇잔?: 1547486\n",
      "카푸치노 몇잔?: 48652256\n",
      "지불할 총 금액은 154427056000원 입니다\n",
      "돈을 넣어주세요: 131487878943545642\n",
      "거스름돈은 131487724516489642원 입니다.\n"
     ]
    }
   ],
   "source": [
    "menu = '''[커피 자동주문 머신 메뉴]\n",
    "-----------------------------------\n",
    "-아메리카노는 2500원\n",
    "-카페라테는 3000원\n",
    "-카푸치노는 3000원\n",
    "입니다. 원하시는 커피 종류와 잔수를 입력하세요.\n",
    "-----------------------------------\n",
    "'''\n",
    "coffee1 = int(input(menu+'아메리카노 몇잔?: '))\n",
    "coffee2 = int(input('카페라테 몇잔?: '))\n",
    "coffee3 = int(input('카푸치노 몇잔?: '))\n",
    "#print(coffee1, coffee2, coffee3)\n",
    "\n",
    "total = coffee1*2500+coffee2*3000+coffee3*3000\n",
    "\n",
    "print(f'지불할 총 금액은 {total}원 입니다')\n",
    "\n",
    "money = int(input('돈을 넣어주세요: '))\n",
    "if money >= total :\n",
    "    print(f'거스름돈은 {money-total}원 입니다.')\n",
    "else :\n",
    "    print(f'금액이 부족합니다. {total-money}원을 더 넣어주세요.')"
   ]
  },
  {
   "cell_type": "markdown",
   "id": "436ec766",
   "metadata": {},
   "source": [
    "# 난수"
   ]
  },
  {
   "cell_type": "code",
   "execution_count": 93,
   "id": "83e86779",
   "metadata": {},
   "outputs": [
    {
     "name": "stdout",
     "output_type": "stream",
     "text": [
      "10\n",
      "16\n",
      "0.033433094188857204\n",
      "10.974036610489243\n",
      "[1, 4, 3, 2, 5]\n"
     ]
    },
    {
     "data": {
      "text/plain": [
       "5"
      ]
     },
     "execution_count": 93,
     "metadata": {},
     "output_type": "execute_result"
    }
   ],
   "source": [
    "import random\n",
    "\n",
    "#정수\n",
    "print(random.randint(10,20)) #10<=n<=20 중 정수 1개 임의추출\n",
    "print(random.randrange(10,20,2)) #2씩 증가 정수 1개 임의추출\n",
    "\n",
    "#실수\n",
    "print(random.random()) #0~!사이의 임의의 실수\n",
    "print(random.uniform(10,20)) #10~20사이의 임의의 실수\n",
    "\n",
    "a_list = list(range(1,6)) #[1,2,3,4,5]\n",
    "\n",
    "a_list = [1,2,3,4,5]\n",
    "random.shuffle(a_list)\n",
    "print(a_list)\n",
    "\n",
    "random.choice(a_list)"
   ]
  },
  {
   "cell_type": "markdown",
   "id": "c32fd1a5",
   "metadata": {},
   "source": [
    "# 주사위"
   ]
  },
  {
   "cell_type": "code",
   "execution_count": 101,
   "id": "c1c78ea1",
   "metadata": {},
   "outputs": [
    {
     "name": "stdout",
     "output_type": "stream",
     "text": [
      "주사위를 던집니다!\n",
      "------------------\n",
      "A의 주사위 숫자는 3입니다.\n",
      "B의 주사위 숫자는 2입니다.\n",
      "------------------\n",
      "A가 이겼습니다.\n"
     ]
    }
   ],
   "source": [
    "a_list = list(range(1,6))\n",
    "x = int(random.choice(a_list))\n",
    "y = int(random.choice(a_list))\n",
    "\n",
    "print('주사위를 던집니다!')\n",
    "print('------------------')\n",
    "print(f'A의 주사위 숫자는 {x}입니다.')\n",
    "print(f'B의 주사위 숫자는 {y}입니다.')\n",
    "print('------------------')\n",
    "\n",
    "if x > y :\n",
    "    print('A가 이겼습니다.')\n",
    "if x == y :\n",
    "    print('비겼습니다.')\n",
    "if x < y :\n",
    "    print('B가 이겼습니다.')"
   ]
  },
  {
   "cell_type": "code",
   "execution_count": 124,
   "id": "4054583b",
   "metadata": {},
   "outputs": [
    {
     "name": "stdout",
     "output_type": "stream",
     "text": [
      "주사위를 던집니다!\n",
      "------------------------\n",
      "A의 주사위 숫자는 5 입니다.\n",
      "B의 주사위 숫자는 5 입니다.\n",
      "------------------------\n",
      "비겼습니다.\n"
     ]
    }
   ],
   "source": [
    "A = [random.randrange(1,7) for _ in range(2)]\n",
    "#print(A[0], A[1])\n",
    "\n",
    "print('주사위를 던집니다!')\n",
    "print('------------------------')\n",
    "print('A의 주사위 숫자는',A[0],'입니다.')\n",
    "print('B의 주사위 숫자는',A[1],'입니다.')\n",
    "print('------------------------')\n",
    "\n",
    "if A[0] > A[1] :\n",
    "    print('A가 이겼습니다.')\n",
    "if A[0] == A[1] :\n",
    "    print('비겼습니다.')\n",
    "if A[0] < A[1] :\n",
    "    print('B가 이겼습니다.')"
   ]
  },
  {
   "cell_type": "markdown",
   "id": "dd5d27c8",
   "metadata": {},
   "source": [
    "# for 반복문"
   ]
  },
  {
   "cell_type": "code",
   "execution_count": 128,
   "id": "a46c94ec",
   "metadata": {},
   "outputs": [
    {
     "data": {
      "text/plain": [
       "[1, 2, 3, 4, 5, 6, 7, 8, 9]"
      ]
     },
     "execution_count": 128,
     "metadata": {},
     "output_type": "execute_result"
    }
   ],
   "source": [
    "#range\n",
    "\n",
    "alist = list(range(1,10,1))\n",
    "alist"
   ]
  },
  {
   "cell_type": "code",
   "execution_count": 129,
   "id": "977650f4",
   "metadata": {},
   "outputs": [
    {
     "data": {
      "text/plain": [
       "[0, 1, 2, 3, 4, 5, 6, 7, 8, 9]"
      ]
     },
     "execution_count": 129,
     "metadata": {},
     "output_type": "execute_result"
    }
   ],
   "source": [
    "#range\n",
    "\n",
    "alist = list(range(10))\n",
    "alist"
   ]
  },
  {
   "cell_type": "code",
   "execution_count": 133,
   "id": "2863f39e",
   "metadata": {},
   "outputs": [
    {
     "name": "stdout",
     "output_type": "stream",
     "text": [
      "[0] python\n",
      "[1] python\n",
      "[2] python\n",
      "[3] python\n",
      "[4] python\n",
      "[5] python\n",
      "[6] python\n",
      "[7] python\n",
      "[8] python\n",
      "[9] python\n"
     ]
    }
   ],
   "source": [
    "#range\n",
    "#range(10)  #10번\n",
    "#range(1,11,1)  #10번\n",
    "#range(1,11,2)  #2씩 증가 [1,3,5,7,9]\n",
    "\n",
    "for i in range(10):\n",
    "    print(f'[{i}] python')"
   ]
  },
  {
   "cell_type": "code",
   "execution_count": 137,
   "id": "8eadb353",
   "metadata": {},
   "outputs": [
    {
     "name": "stdout",
     "output_type": "stream",
     "text": [
      "[apple] python\n",
      "[b] python\n",
      "[c] python\n",
      "[d] python\n",
      "[e] python\n",
      "[f] python\n",
      "[g] python\n",
      "[h] python\n",
      "[i] python\n",
      "[j] python\n"
     ]
    }
   ],
   "source": [
    "#alist = [0,1,2,3,4,5,6,7,8,9]\n",
    "alist = ['apple','b','c','d','e','f','g','h','i','j']\n",
    "for i in alist:\n",
    "    print(f'[{i}] python')"
   ]
  },
  {
   "cell_type": "code",
   "execution_count": 140,
   "id": "ec51dd8e",
   "metadata": {},
   "outputs": [
    {
     "name": "stdout",
     "output_type": "stream",
     "text": [
      "[apple] python\n",
      "[b] python\n",
      "[c] python\n",
      "[d] python\n",
      "[e] python\n",
      "[f] python\n",
      "[g] python\n",
      "[h] python\n",
      "[i] python\n",
      "[j] python\n",
      "\n",
      "[0] [apple] python\n",
      "[1] [b] python\n",
      "[2] [c] python\n",
      "[3] [d] python\n",
      "[4] [e] python\n",
      "[5] [f] python\n",
      "[6] [g] python\n",
      "[7] [h] python\n",
      "[8] [i] python\n",
      "[9] [j] python\n"
     ]
    }
   ],
   "source": [
    "#alist = [0,1,2,3,4,5,6,7,8,9]\n",
    "alist = ['apple','b','c','d','e','f','g','h','i','j']\n",
    "for i in alist:\n",
    "    print(f'[{i}] python')\n",
    "print()\n",
    "for idx, value in enumerate(alist):\n",
    "    print(f'[{idx}] [{value}] python')"
   ]
  },
  {
   "cell_type": "code",
   "execution_count": 145,
   "id": "b903b088",
   "metadata": {},
   "outputs": [
    {
     "name": "stdout",
     "output_type": "stream",
     "text": [
      "안녕하세요.\n",
      "안녕하세요.\n",
      "안녕하세요.\n"
     ]
    }
   ],
   "source": [
    "for _ in range(0,3,1) :\n",
    "    print(\"안녕하세요.\")"
   ]
  },
  {
   "cell_type": "code",
   "execution_count": 148,
   "id": "e9718a49",
   "metadata": {},
   "outputs": [
    {
     "name": "stdout",
     "output_type": "stream",
     "text": [
      "1~10까지 합: 55\n"
     ]
    }
   ],
   "source": [
    "# 1~10까지 합 구하기\n",
    "hap = 0\n",
    "for i in range(1,11,1):\n",
    "    hap = hap + i\n",
    "print(f'1~10까지 합: {hap}')"
   ]
  },
  {
   "cell_type": "code",
   "execution_count": 149,
   "id": "a0b66e45",
   "metadata": {},
   "outputs": [
    {
     "name": "stdout",
     "output_type": "stream",
     "text": [
      "[11, 432, 5346, 352, 64323, 853456] 안의 모든 합은: 923920\n"
     ]
    }
   ],
   "source": [
    "# 리스트 요소들의 합\n",
    "a_list = [11,432,5346,352,64323,853456]\n",
    "hap = 0\n",
    "\n",
    "for i in a_list:\n",
    "    hap = hap + i\n",
    "\n",
    "print(f'{a_list} 안의 모든 합은: {hap}')\n",
    "\n",
    "# = sum(a_list)"
   ]
  },
  {
   "cell_type": "code",
   "execution_count": 150,
   "id": "d2b40344",
   "metadata": {},
   "outputs": [
    {
     "data": {
      "text/plain": [
       "923920"
      ]
     },
     "execution_count": 150,
     "metadata": {},
     "output_type": "execute_result"
    }
   ],
   "source": [
    "a_list = [11,432,5346,352,64323,853456]\n",
    "sum(a_list)"
   ]
  },
  {
   "cell_type": "code",
   "execution_count": 156,
   "id": "a5f074b3",
   "metadata": {},
   "outputs": [
    {
     "name": "stdout",
     "output_type": "stream",
     "text": [
      "합계를 구할 숫자 입력: 100\n",
      "1~100까지의 합은: 5050\n"
     ]
    }
   ],
   "source": [
    "n = int(input('합계를 구할 숫자 입력: '))\n",
    "hap = 0\n",
    "\n",
    "for i in range(1,n+1,1):\n",
    "    hap = hap + i\n",
    "\n",
    "print(f'1~{n}까지의 합은: {hap}')"
   ]
  },
  {
   "cell_type": "code",
   "execution_count": 159,
   "id": "5ea252e3",
   "metadata": {},
   "outputs": [
    {
     "name": "stdout",
     "output_type": "stream",
     "text": [
      "합계를 구할 숫자 입력:100\n",
      "1~100까지 짝수를 제외한 합은: 2500\n"
     ]
    }
   ],
   "source": [
    "n = int(input('합계를 구할 숫자 입력:'))\n",
    "hap = 0\n",
    "\n",
    "for i in range(1,n+1,2):\n",
    "    hap = hap + i\n",
    "    \n",
    "print(f'1~{n}까지 짝수를 제외한 합은: {hap}')"
   ]
  },
  {
   "cell_type": "code",
   "execution_count": 165,
   "id": "5c31a18e",
   "metadata": {},
   "outputs": [
    {
     "name": "stdout",
     "output_type": "stream",
     "text": [
      "몇단을 출력할까요?: 5\n",
      "5 x 1 = 5\n",
      "5 x 2 = 10\n",
      "5 x 3 = 15\n",
      "5 x 4 = 20\n",
      "5 x 5 = 25\n",
      "5 x 6 = 30\n",
      "5 x 7 = 35\n",
      "5 x 8 = 40\n",
      "5 x 9 = 45\n"
     ]
    }
   ],
   "source": [
    "n = int(input(f'몇단을 출력할까요?: '))\n",
    "\n",
    "for i in range(1,10,1):\n",
    "    a = i * n\n",
    "    print(f'{n} x {i} = {a}')"
   ]
  },
  {
   "cell_type": "code",
   "execution_count": 14,
   "id": "e39204d0",
   "metadata": {},
   "outputs": [
    {
     "name": "stdout",
     "output_type": "stream",
     "text": [
      "2 x 1 = 2\n",
      "2 x 2 = 4\n",
      "2 x 3 = 6\n",
      "2 x 4 = 8\n",
      "2 x 5 = 10\n",
      "2 x 6 = 12\n",
      "2 x 7 = 14\n",
      "2 x 8 = 16\n",
      "2 x 9 = 18\n",
      "3 x 1 = 3\n",
      "3 x 2 = 6\n",
      "3 x 3 = 9\n",
      "3 x 4 = 12\n",
      "3 x 5 = 15\n",
      "3 x 6 = 18\n",
      "3 x 7 = 21\n",
      "3 x 8 = 24\n",
      "3 x 9 = 27\n",
      "4 x 1 = 4\n",
      "4 x 2 = 8\n",
      "4 x 3 = 12\n",
      "4 x 4 = 16\n",
      "4 x 5 = 20\n",
      "4 x 6 = 24\n",
      "4 x 7 = 28\n",
      "4 x 8 = 32\n",
      "4 x 9 = 36\n",
      "5 x 1 = 5\n",
      "5 x 2 = 10\n",
      "5 x 3 = 15\n",
      "5 x 4 = 20\n",
      "5 x 5 = 25\n",
      "5 x 6 = 30\n",
      "5 x 7 = 35\n",
      "5 x 8 = 40\n",
      "5 x 9 = 45\n",
      "6 x 1 = 6\n",
      "6 x 2 = 12\n",
      "6 x 3 = 18\n",
      "6 x 4 = 24\n",
      "6 x 5 = 30\n",
      "6 x 6 = 36\n",
      "6 x 7 = 42\n",
      "6 x 8 = 48\n",
      "6 x 9 = 54\n",
      "7 x 1 = 7\n",
      "7 x 2 = 14\n",
      "7 x 3 = 21\n",
      "7 x 4 = 28\n",
      "7 x 5 = 35\n",
      "7 x 6 = 42\n",
      "7 x 7 = 49\n",
      "7 x 8 = 56\n",
      "7 x 9 = 63\n",
      "8 x 1 = 8\n",
      "8 x 2 = 16\n",
      "8 x 3 = 24\n",
      "8 x 4 = 32\n",
      "8 x 5 = 40\n",
      "8 x 6 = 48\n",
      "8 x 7 = 56\n",
      "8 x 8 = 64\n",
      "8 x 9 = 72\n",
      "9 x 1 = 9\n",
      "9 x 2 = 18\n",
      "9 x 3 = 27\n",
      "9 x 4 = 36\n",
      "9 x 5 = 45\n",
      "9 x 6 = 54\n",
      "9 x 7 = 63\n",
      "9 x 8 = 72\n",
      "9 x 9 = 81\n"
     ]
    }
   ],
   "source": [
    "for i in range(2,10,1) :\n",
    "    for k in range(1,10,1) :\n",
    "        print(f'%d x %d = %d' % (i,k,i*k))"
   ]
  },
  {
   "cell_type": "code",
   "execution_count": 4,
   "id": "a1a1d485",
   "metadata": {},
   "outputs": [
    {
     "name": "stdout",
     "output_type": "stream",
     "text": [
      "# 2단           # 3단           # 4단           # 5단           # 6단           # 7단           # 8단           # 9단\n",
      "2 x 1 = 2\t3 x 1 = 3\t4 x 1 = 4\t5 x 1 = 5\t6 x 1 = 6\t7 x 1 = 7\t8 x 1 = 8\t9 x 1 = 9\t\n",
      "2 x 2 = 4\t3 x 2 = 6\t4 x 2 = 8\t5 x 2 = 10\t6 x 2 = 12\t7 x 2 = 14\t8 x 2 = 16\t9 x 2 = 18\t\n",
      "2 x 3 = 6\t3 x 3 = 9\t4 x 3 = 12\t5 x 3 = 15\t6 x 3 = 18\t7 x 3 = 21\t8 x 3 = 24\t9 x 3 = 27\t\n",
      "2 x 4 = 8\t3 x 4 = 12\t4 x 4 = 16\t5 x 4 = 20\t6 x 4 = 24\t7 x 4 = 28\t8 x 4 = 32\t9 x 4 = 36\t\n",
      "2 x 5 = 10\t3 x 5 = 15\t4 x 5 = 20\t5 x 5 = 25\t6 x 5 = 30\t7 x 5 = 35\t8 x 5 = 40\t9 x 5 = 45\t\n",
      "2 x 6 = 12\t3 x 6 = 18\t4 x 6 = 24\t5 x 6 = 30\t6 x 6 = 36\t7 x 6 = 42\t8 x 6 = 48\t9 x 6 = 54\t\n",
      "2 x 7 = 14\t3 x 7 = 21\t4 x 7 = 28\t5 x 7 = 35\t6 x 7 = 42\t7 x 7 = 49\t8 x 7 = 56\t9 x 7 = 63\t\n",
      "2 x 8 = 16\t3 x 8 = 24\t4 x 8 = 32\t5 x 8 = 40\t6 x 8 = 48\t7 x 8 = 56\t8 x 8 = 64\t9 x 8 = 72\t\n",
      "2 x 9 = 18\t3 x 9 = 27\t4 x 9 = 36\t5 x 9 = 45\t6 x 9 = 54\t7 x 9 = 63\t8 x 9 = 72\t9 x 9 = 81\t\n"
     ]
    }
   ],
   "source": [
    "print(\"# 2단           # 3단           # 4단           # 5단           # 6단           # 7단           # 8단           # 9단\")\n",
    "for i in range(1,10,1) :\n",
    "    for dan in range (2, 10, 1):\n",
    "        print (f'{dan} x {i} = {dan*i}', end=\"\\t\")\n",
    "    print()"
   ]
  },
  {
   "cell_type": "code",
   "execution_count": 6,
   "id": "3f760c9a",
   "metadata": {},
   "outputs": [
    {
     "name": "stdout",
     "output_type": "stream",
     "text": [
      "숫자 0,숫자 1,숫자 2,숫자 3,숫자 4,숫자 5,숫자 6,숫자 7,숫자 8,숫자 9,"
     ]
    }
   ],
   "source": [
    "for i in range(10):\n",
    "    print('숫자 %d' % i, end = \",\")"
   ]
  },
  {
   "cell_type": "code",
   "execution_count": 9,
   "id": "b6dc4d8b",
   "metadata": {},
   "outputs": [
    {
     "name": "stdout",
     "output_type": "stream",
     "text": [
      " #2단       #3단       #4단       #5단       #6단       #7단       #8단       #9단      \n",
      " 2 x 1 = 2  3 x 1 = 3  4 x 1 = 4  5 x 1 = 5  6 x 1 = 6  7 x 1 = 7  8 x 1 = 8  9 x 1 = 9 \n",
      " 2 x 2 = 4  3 x 2 = 6  4 x 2 = 8  5 x 2 = 10  6 x 2 = 12  7 x 2 = 14  8 x 2 = 16  9 x 2 = 18 \n",
      " 2 x 3 = 6  3 x 3 = 9  4 x 3 = 12  5 x 3 = 15  6 x 3 = 18  7 x 3 = 21  8 x 3 = 24  9 x 3 = 27 \n",
      " 2 x 4 = 8  3 x 4 = 12  4 x 4 = 16  5 x 4 = 20  6 x 4 = 24  7 x 4 = 28  8 x 4 = 32  9 x 4 = 36 \n",
      " 2 x 5 = 10  3 x 5 = 15  4 x 5 = 20  5 x 5 = 25  6 x 5 = 30  7 x 5 = 35  8 x 5 = 40  9 x 5 = 45 \n",
      " 2 x 6 = 12  3 x 6 = 18  4 x 6 = 24  5 x 6 = 30  6 x 6 = 36  7 x 6 = 42  8 x 6 = 48  9 x 6 = 54 \n",
      " 2 x 7 = 14  3 x 7 = 21  4 x 7 = 28  5 x 7 = 35  6 x 7 = 42  7 x 7 = 49  8 x 7 = 56  9 x 7 = 63 \n",
      " 2 x 8 = 16  3 x 8 = 24  4 x 8 = 32  5 x 8 = 40  6 x 8 = 48  7 x 8 = 56  8 x 8 = 64  9 x 8 = 72 \n",
      " 2 x 9 = 18  3 x 9 = 27  4 x 9 = 36  5 x 9 = 45  6 x 9 = 54  7 x 9 = 63  8 x 9 = 72  9 x 9 = 81 "
     ]
    }
   ],
   "source": [
    "for 단 in range(2,10,1):\n",
    "    print(f' #{단}단', end='      ')\n",
    "for w in range(1,10,1):\n",
    "    print(\"\")\n",
    "    for h in range(2,10,1):\n",
    "        print(' %d x %d = %d'%(h,w,h*w),end=' ')"
   ]
  },
  {
   "cell_type": "code",
   "execution_count": 23,
   "id": "edf030eb",
   "metadata": {},
   "outputs": [
    {
     "name": "stdout",
     "output_type": "stream",
     "text": [
      "#2단            #3단            #4단            #5단            #6단            #7단            #8단            #9단            \n",
      "2 x 1 = 2\t3 x 1 = 3\t4 x 1 = 4\t5 x 1 = 5\t6 x 1 = 6\t7 x 1 = 7\t8 x 1 = 8\t9 x 1 = 9\t\n",
      "2 x 2 = 4\t3 x 2 = 6\t4 x 2 = 8\t5 x 2 = 10\t6 x 2 = 12\t7 x 2 = 14\t8 x 2 = 16\t9 x 2 = 18\t\n",
      "2 x 3 = 6\t3 x 3 = 9\t4 x 3 = 12\t5 x 3 = 15\t6 x 3 = 18\t7 x 3 = 21\t8 x 3 = 24\t9 x 3 = 27\t\n",
      "2 x 4 = 8\t3 x 4 = 12\t4 x 4 = 16\t5 x 4 = 20\t6 x 4 = 24\t7 x 4 = 28\t8 x 4 = 32\t9 x 4 = 36\t\n",
      "2 x 5 = 10\t3 x 5 = 15\t4 x 5 = 20\t5 x 5 = 25\t6 x 5 = 30\t7 x 5 = 35\t8 x 5 = 40\t9 x 5 = 45\t\n",
      "2 x 6 = 12\t3 x 6 = 18\t4 x 6 = 24\t5 x 6 = 30\t6 x 6 = 36\t7 x 6 = 42\t8 x 6 = 48\t9 x 6 = 54\t\n",
      "2 x 7 = 14\t3 x 7 = 21\t4 x 7 = 28\t5 x 7 = 35\t6 x 7 = 42\t7 x 7 = 49\t8 x 7 = 56\t9 x 7 = 63\t\n",
      "2 x 8 = 16\t3 x 8 = 24\t4 x 8 = 32\t5 x 8 = 40\t6 x 8 = 48\t7 x 8 = 56\t8 x 8 = 64\t9 x 8 = 72\t\n",
      "2 x 9 = 18\t3 x 9 = 27\t4 x 9 = 36\t5 x 9 = 45\t6 x 9 = 54\t7 x 9 = 63\t8 x 9 = 72\t9 x 9 = 81\t"
     ]
    }
   ],
   "source": [
    "for 단 in range(2,10,1):\n",
    "    print(f'#{단}단', end = '            ')\n",
    "for i in range(1,10,1) :\n",
    "    print('')\n",
    "    for k in range(2,10,1) :\n",
    "        print(f'%d x %d = %d' % (k,i,i*k), end = '\\t')"
   ]
  },
  {
   "cell_type": "code",
   "execution_count": 26,
   "id": "f4c8caa6",
   "metadata": {},
   "outputs": [
    {
     "name": "stdout",
     "output_type": "stream",
     "text": [
      "#2단 #3단 #4단 #5단 #6단 #7단 #8단 #9단 "
     ]
    }
   ],
   "source": [
    "for i in range(2,10,1):\n",
    "    print(f'#{i}단', end = ' ')"
   ]
  },
  {
   "cell_type": "code",
   "execution_count": 27,
   "id": "429eb412",
   "metadata": {},
   "outputs": [
    {
     "name": "stdout",
     "output_type": "stream",
     "text": [
      "# 2단 # 3단 # 4단 # 5단 # 6단 # 7단 # 8단 # 9단 "
     ]
    }
   ],
   "source": [
    "for i in range(2,10,1):\n",
    "    print(f'#{i:2}단', end = ' ')"
   ]
  },
  {
   "cell_type": "code",
   "execution_count": 36,
   "id": "d85ab3b8",
   "metadata": {},
   "outputs": [
    {
     "name": "stdout",
     "output_type": "stream",
     "text": [
      "#   2단 #   3단 #   4단 #   5단 #   6단 #   7단 #   8단 #   9단 \n",
      "2x1=  2  3x1=  3  4x1=  4  5x1=  5  6x1=  6  7x1=  7  8x1=  8  9x1=  9  \n",
      "2x2=  4  3x2=  6  4x2=  8  5x2= 10  6x2= 12  7x2= 14  8x2= 16  9x2= 18  \n",
      "2x3=  6  3x3=  9  4x3= 12  5x3= 15  6x3= 18  7x3= 21  8x3= 24  9x3= 27  \n",
      "2x4=  8  3x4= 12  4x4= 16  5x4= 20  6x4= 24  7x4= 28  8x4= 32  9x4= 36  \n",
      "2x5= 10  3x5= 15  4x5= 20  5x5= 25  6x5= 30  7x5= 35  8x5= 40  9x5= 45  \n",
      "2x6= 12  3x6= 18  4x6= 24  5x6= 30  6x6= 36  7x6= 42  8x6= 48  9x6= 54  \n",
      "2x7= 14  3x7= 21  4x7= 28  5x7= 35  6x7= 42  7x7= 49  8x7= 56  9x7= 63  \n",
      "2x8= 16  3x8= 24  4x8= 32  5x8= 40  6x8= 48  7x8= 56  8x8= 64  9x8= 72  \n",
      "2x9= 18  3x9= 27  4x9= 36  5x9= 45  6x9= 54  7x9= 63  8x9= 72  9x9= 81  \n"
     ]
    }
   ],
   "source": [
    "for i in range(2,10,1):\n",
    "    print(f'#  {i:2}단', end = ' ')\n",
    "print()\n",
    "for i in range(1,10):\n",
    "    for dan in range(2,10):\n",
    "        print(f'{dan}x{i}= {dan*i:2}',end ='  ')\n",
    "    print()"
   ]
  },
  {
   "cell_type": "code",
   "execution_count": 52,
   "id": "a8022f4a",
   "metadata": {},
   "outputs": [
    {
     "name": "stdout",
     "output_type": "stream",
     "text": [
      "1  2  3  4  \n",
      "5  6  7  8  \n",
      "9 10 11 12 "
     ]
    }
   ],
   "source": [
    "for i in range (1,5):\n",
    "    print(i,end = '  ')\n",
    "print()\n",
    "for j in range (5,9):\n",
    "    print(j,end = '  ')\n",
    "print()\n",
    "for k in range (9,13):\n",
    "    print(k, end = ' ')"
   ]
  },
  {
   "cell_type": "code",
   "execution_count": 53,
   "id": "fb29887e",
   "metadata": {},
   "outputs": [
    {
     "name": "stdout",
     "output_type": "stream",
     "text": [
      "1  4  7  10  \n",
      "2  5  8  11  \n",
      "3  6  9  12  "
     ]
    }
   ],
   "source": [
    "for i in range (1,11,3):\n",
    "    print(i, end = '  ')\n",
    "print()\n",
    "for j in range (2,12,3):\n",
    "    print(j, end = '  ')\n",
    "print()\n",
    "for k in range (3,13,3):\n",
    "    print(k, end = '  ')"
   ]
  },
  {
   "cell_type": "code",
   "execution_count": 54,
   "id": "9c739932",
   "metadata": {},
   "outputs": [
    {
     "name": "stdout",
     "output_type": "stream",
     "text": [
      " 1  2  3  4 \n",
      " 5  6  7  8 \n",
      " 9 10 11 12 \n"
     ]
    }
   ],
   "source": [
    "j=0\n",
    "for _ in range(3):\n",
    "    for i in range (4):\n",
    "        j +=  1\n",
    "        print (f'{j :>2d}', end=\" \")\n",
    "    print()"
   ]
  },
  {
   "cell_type": "code",
   "execution_count": 62,
   "id": "dd2e3607",
   "metadata": {},
   "outputs": [
    {
     "name": "stdout",
     "output_type": "stream",
     "text": [
      " 1  2  3  4 \n",
      " 5  6  7  8 \n",
      " 9 10 11 12 \n"
     ]
    }
   ],
   "source": [
    "v = 1\n",
    "for i in range(3):\n",
    "    for j in range(4):\n",
    "        print (f'{v:2}', end = ' ')\n",
    "        v += 1\n",
    "    print()"
   ]
  },
  {
   "cell_type": "code",
   "execution_count": 67,
   "id": "2b6efa2c",
   "metadata": {},
   "outputs": [
    {
     "name": "stdout",
     "output_type": "stream",
     "text": [
      " 1  4  7 10 \n",
      " 2  5  8 11 \n",
      " 3  6  9 12 \n"
     ]
    }
   ],
   "source": [
    "for i in range(3):\n",
    "    v = 0\n",
    "    for j in range(4):\n",
    "        print (f'{v+1+i:2}', end = ' ')\n",
    "        v += 3\n",
    "    \n",
    "    print()"
   ]
  },
  {
   "cell_type": "code",
   "execution_count": 95,
   "id": "67af3d0a",
   "metadata": {},
   "outputs": [
    {
     "name": "stdout",
     "output_type": "stream",
     "text": [
      "주사위 숫자별 개수:\n",
      "D1[21] D2[21] D3[16] D4[11] D5[14] D6[17]\n",
      "가장 많이 나온 주사위 숫자: 2, 횟수 21\n"
     ]
    }
   ],
   "source": [
    "import random\n",
    "\n",
    "d1, d2, d3, d4, d5, d6 = 0, 0, 0, 0, 0, 0\n",
    "for i in range(100):\n",
    "    num = random.randint(1,6)\n",
    "    \n",
    "    if num == 1: d1 += 1\n",
    "    if num == 2: d2 += 1\n",
    "    if num == 3: d3 += 1\n",
    "    if num == 4: d4 += 1\n",
    "    if num == 5: d5 += 1\n",
    "    if num == 6: d6 += 1\n",
    "        \n",
    "print(f'주사위 숫자별 개수:')\n",
    "print(f'D1[{d1}] D2[{d2}] D3[{d3}] D4[{d4}] D5[{d5}] D6[{d6}]')\n",
    "\n",
    "maxv = d1\n",
    "maxd = list()\n",
    "\n",
    "if maxv <= d2 :\n",
    "    maxd = 2\n",
    "    maxv = d2\n",
    "    \n",
    "if maxv <= d3 :\n",
    "    maxd = 3\n",
    "    maxv = d3\n",
    "    \n",
    "if maxv <= d4 :\n",
    "    maxd = 4\n",
    "    maxv = d4\n",
    "    \n",
    "if maxv <= d5 :\n",
    "    maxd = 5\n",
    "    maxv = d5\n",
    "    \n",
    "if maxv <= d6 :\n",
    "    maxd = 6\n",
    "    maxv = d6\n",
    "\n",
    "print(f'가장 많이 나온 주사위 숫자: {maxd}, 횟수 {maxv}')"
   ]
  },
  {
   "cell_type": "code",
   "execution_count": 96,
   "id": "1c6c100d",
   "metadata": {},
   "outputs": [
    {
     "name": "stdout",
     "output_type": "stream",
     "text": [
      "0 : 안녕하세요? for 문을 공부 중입니다. ^^\n",
      "1 : 안녕하세요? for 문을 공부 중입니다. ^^\n",
      "2 : 안녕하세요? for 문을 공부 중입니다. ^^\n"
     ]
    }
   ],
   "source": [
    "for i in range(0,3,1) :\n",
    "    print(\"%d : 안녕하세요? for 문을 공부 중입니다. ^^\" % i)"
   ]
  },
  {
   "cell_type": "code",
   "execution_count": 97,
   "id": "ea7fdc7d",
   "metadata": {},
   "outputs": [
    {
     "name": "stdout",
     "output_type": "stream",
     "text": [
      "0 : 안녕하세요? while 문을 공부 중입니다. ^^\n",
      "1 : 안녕하세요? while 문을 공부 중입니다. ^^\n",
      "2 : 안녕하세요? while 문을 공부 중입니다. ^^\n"
     ]
    }
   ],
   "source": [
    "i = 0\n",
    "while i < 3 :\n",
    "    print(\"%d : 안녕하세요? while 문을 공부 중입니다. ^^\" %i)\n",
    "    i += 1"
   ]
  },
  {
   "cell_type": "code",
   "execution_count": 99,
   "id": "6afdbac5",
   "metadata": {},
   "outputs": [
    {
     "name": "stdout",
     "output_type": "stream",
     "text": [
      "5050\n"
     ]
    }
   ],
   "source": [
    "hap, i = 0, 1\n",
    "while i < 101:\n",
    "    hap +=i\n",
    "    i += 1\n",
    "\n",
    "print(hap)"
   ]
  },
  {
   "cell_type": "code",
   "execution_count": 101,
   "id": "becf6abd",
   "metadata": {},
   "outputs": [
    {
     "name": "stdout",
     "output_type": "stream",
     "text": [
      "5050\n"
     ]
    }
   ],
   "source": [
    "hap, i = 0, 1\n",
    "while True:\n",
    "    hap += i\n",
    "    i += 1\n",
    "    if i > 100:\n",
    "        break\n",
    "print(hap)"
   ]
  },
  {
   "cell_type": "code",
   "execution_count": 106,
   "id": "a831dd31",
   "metadata": {},
   "outputs": [
    {
     "name": "stdout",
     "output_type": "stream",
     "text": [
      "나무를 1번 찍었습니다.\n",
      "나무를 2번 찍었습니다.\n",
      "나무를 3번 찍었습니다.\n",
      "나무를 4번 찍었습니다.\n",
      "나무를 5번 찍었습니다.\n",
      "나무를 6번 찍었습니다.\n",
      "나무를 7번 찍었습니다.\n",
      "나무를 8번 찍었습니다.\n",
      "나무를 9번 찍었습니다.\n",
      "나무를 10번 찍었습니다.\n",
      "나무 넘어 갑니다~\n"
     ]
    }
   ],
   "source": [
    "treeHit = 0\n",
    "\n",
    "while True:\n",
    "    treeHit += 1\n",
    "    print(f'나무를 %d번 찍었습니다.' % treeHit)\n",
    "    if treeHit == 10:\n",
    "        break\n",
    "print('나무 넘어 갑니다~')"
   ]
  },
  {
   "cell_type": "code",
   "execution_count": 109,
   "id": "fe31ac0b",
   "metadata": {},
   "outputs": [
    {
     "name": "stdout",
     "output_type": "stream",
     "text": [
      "\n",
      "    1. Add   2. Del   3. Modify   4. Quit\n",
      "    \n",
      "    Enter number: 1\n",
      "입력한 숫자는 [1]\n",
      "\n",
      "    1. Add   2. Del   3. Modify   4. Quit\n",
      "    \n",
      "    Enter number: 2\n",
      "입력한 숫자는 [2]\n",
      "\n",
      "    1. Add   2. Del   3. Modify   4. Quit\n",
      "    \n",
      "    Enter number: 3\n",
      "입력한 숫자는 [3]\n",
      "\n",
      "    1. Add   2. Del   3. Modify   4. Quit\n",
      "    \n",
      "    Enter number: 4\n",
      "입력한 숫자는 [4]\n",
      "프로그램을 종료합니다.\n"
     ]
    }
   ],
   "source": [
    "prompt = \"\"\"\n",
    "    1. Add   2. Del   3. Modify   4. Quit\n",
    "    \n",
    "    Enter number: \"\"\"\n",
    "\n",
    "while True:\n",
    "    num = input(prompt)\n",
    "    print(f'입력한 숫자는 [{num}]')\n",
    "    \n",
    "    if num == '4':\n",
    "        break\n",
    "        \n",
    "print('프로그램을 종료합니다.')"
   ]
  },
  {
   "cell_type": "code",
   "execution_count": 9,
   "id": "a3620de0",
   "metadata": {},
   "outputs": [
    {
     "name": "stdout",
     "output_type": "stream",
     "text": [
      "숫자를 여러개 입력하세요: 123\n",
      "★★\n",
      "★★★★\n",
      "★★★★★★\n"
     ]
    }
   ],
   "source": [
    "a = list(input('숫자를 여러개 입력하세요: '))\n",
    "length = len(a)\n",
    "i = 0\n",
    "while i <length:\n",
    "    print('\\u2605'*int(a[i])*2)\n",
    "    i += 1"
   ]
  },
  {
   "cell_type": "code",
   "execution_count": 11,
   "id": "ae56945e",
   "metadata": {},
   "outputs": [
    {
     "name": "stdout",
     "output_type": "stream",
     "text": [
      "공의 높이를 입력하세요(meter): 30\n",
      "30 미터 입니다.\n",
      "15.0 미터 입니다.\n",
      "7.5 미터 입니다.\n",
      "3.75 미터 입니다.\n",
      "1.875 미터 입니다.\n",
      "0.9375 미터 입니다.\n",
      "0.46875 미터 입니다.\n",
      "0.234375 미터 입니다.\n",
      "0.1171875 미터 입니다.\n",
      "0.05859375 미터 입니다.\n",
      "0.029296875 미터 입니다.\n",
      "0.0146484375 미터 입니다.\n",
      "0.00732421875 미터 입니다.\n",
      "0.003662109375 미터 입니다.\n",
      "0.0018310546875 미터 입니다.\n",
      "0.00091552734375 미터 입니다.\n",
      "0.000457763671875 미터 입니다.\n",
      "0.0002288818359375 미터 입니다.\n",
      "0.00011444091796875 미터 입니다.\n",
      "5.7220458984375e-05 미터 입니다.\n",
      "2.86102294921875e-05 미터 입니다.\n",
      "1.430511474609375e-05 미터 입니다.\n",
      "30 위치에서 공의 튕긴 횟수는 총 22번 입니다.\n"
     ]
    }
   ],
   "source": [
    "length = int(input('공의 높이를 입력하세요(meter): '))\n",
    "meter, cnt = length, 0\n",
    "\n",
    "while True:\n",
    "    print(f'{meter} 미터 입니다.')\n",
    "    meter /= 2\n",
    "    cnt += 1\n",
    "    if meter < 0.00001 : break\n",
    "\n",
    "print(f'{length} 위치에서 공의 튕긴 횟수는 총 {cnt}번 입니다.')"
   ]
  },
  {
   "cell_type": "code",
   "execution_count": 2,
   "id": "e218a1a6",
   "metadata": {},
   "outputs": [
    {
     "name": "stdout",
     "output_type": "stream",
     "text": [
      "\n",
      "---------------------------------\n",
      "비밀의 숫자가 지정되었습니다.\n",
      "---------------------------------\n",
      "숫자를 입력하세요: 50\n",
      "비밀의 수는 더 작은 수 입니다.\n",
      "숫자를 입력하세요: 25\n",
      "비밀의 수는 더 작은 수 입니다.\n",
      "숫자를 입력하세요: 10\n",
      "비밀의 수는 더 작은 수 입니다.\n",
      "숫자를 입력하세요: 5\n",
      "비밀의 수는 더 큰 수 입니다.\n",
      "숫자를 입력하세요: 7\n",
      "비밀의 수는 더 작은 수 입니다.\n",
      "숫자를 입력하세요: 6\n",
      "정답입니다.\n",
      "----------------------------\n",
      "비밀의 숫자: 6\n",
      "당신의 입력 횟수: 6\n"
     ]
    }
   ],
   "source": [
    "import random\n",
    "\n",
    "snum = random.randint(1,100)\n",
    "count = 0\n",
    "\n",
    "a = '''\n",
    "---------------------------------\n",
    "비밀의 숫자가 지정되었습니다.\n",
    "---------------------------------'''\n",
    "print(a)\n",
    "\n",
    "\n",
    "while True :\n",
    "    num = int(input('숫자를 입력하세요: '))\n",
    "    count += 1\n",
    "    if num > snum:\n",
    "        print('비밀의 수는 더 작은 수 입니다.')\n",
    "    elif num < snum:\n",
    "        print('비밀의 수는 더 큰 수 입니다.')\n",
    "    else:\n",
    "        print('정답입니다.')\n",
    "        print('----------------------------')\n",
    "        print(f'비밀의 숫자: {snum}')\n",
    "        print(f'당신의 입력 횟수: {count}')\n",
    "        break"
   ]
  },
  {
   "cell_type": "markdown",
   "id": "7c3a9170",
   "metadata": {},
   "source": [
    "# enumerate() 함수"
   ]
  },
  {
   "cell_type": "code",
   "execution_count": 3,
   "id": "da335110",
   "metadata": {},
   "outputs": [
    {
     "name": "stdout",
     "output_type": "stream",
     "text": [
      "idx[0] val[2]\n",
      "idx[1] val[7]\n",
      "idx[2] val[10]\n",
      "idx[3] val[13]\n",
      "idx[4] val[15]\n"
     ]
    }
   ],
   "source": [
    "# enumerate() 사용 : index와 value 함께 출력\n",
    "mylist = [2, 7, 10, 13, 15]\n",
    "for idx, val in enumerate(mylist): #enumerate(mylist, 10)하면 인덱스 넘어 10부터 시작\n",
    "    print(f'idx[{idx}] val[{val}]')"
   ]
  },
  {
   "cell_type": "code",
   "execution_count": null,
   "id": "085a408f",
   "metadata": {},
   "outputs": [],
   "source": []
  }
 ],
 "metadata": {
  "kernelspec": {
   "display_name": "Python 3 (ipykernel)",
   "language": "python",
   "name": "python3"
  },
  "language_info": {
   "codemirror_mode": {
    "name": "ipython",
    "version": 3
   },
   "file_extension": ".py",
   "mimetype": "text/x-python",
   "name": "python",
   "nbconvert_exporter": "python",
   "pygments_lexer": "ipython3",
   "version": "3.8.10"
  }
 },
 "nbformat": 4,
 "nbformat_minor": 5
}
